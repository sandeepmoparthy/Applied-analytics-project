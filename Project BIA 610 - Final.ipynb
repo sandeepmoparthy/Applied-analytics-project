{
 "cells": [
  {
   "cell_type": "code",
   "execution_count": 1,
   "metadata": {},
   "outputs": [],
   "source": [
    "import pandas as pd\n",
    "import numpy as np\n",
    "import os\n",
    "\n",
    "#os.chdir(\"/Users/Jaebin/Documents/Stevens Fall 2019/Applied Analytics/\") #set general working directory\n",
    "\n",
    "county = pd.read_csv(\"Complete county file.csv\") # specific directory for where the dataset is"
   ]
  },
  {
   "cell_type": "code",
   "execution_count": 2,
   "metadata": {},
   "outputs": [
    {
     "data": {
      "text/plain": [
       "Index(['fipstate', 'fipscty', 'naics', 'empflag', 'emp_nf', 'emp', 'qp1_nf',\n",
       "       'qp1', 'ap_nf', 'ap', 'est', 'n1_4', 'n5_9', 'n10_19', 'n20_49',\n",
       "       'n50_99', 'n100_249', 'n250_499', 'n500_999', 'n1000', 'n1000_1',\n",
       "       'n1000_2', 'n1000_3', 'n1000_4', 'censtate', 'cencty'],\n",
       "      dtype='object')"
      ]
     },
     "execution_count": 2,
     "metadata": {},
     "output_type": "execute_result"
    }
   ],
   "source": [
    "county.columns"
   ]
  },
  {
   "cell_type": "code",
   "execution_count": 3,
   "metadata": {},
   "outputs": [
    {
     "data": {
      "text/plain": [
       "(2124893, 26)"
      ]
     },
     "execution_count": 3,
     "metadata": {},
     "output_type": "execute_result"
    }
   ],
   "source": [
    "county.shape"
   ]
  },
  {
   "cell_type": "code",
   "execution_count": 4,
   "metadata": {},
   "outputs": [
    {
     "data": {
      "text/plain": [
       "48    145166\n",
       "13     92273\n",
       "51     86387\n",
       "37     79650\n",
       "39     79107\n",
       "Name: fipstate, dtype: int64"
      ]
     },
     "execution_count": 4,
     "metadata": {},
     "output_type": "execute_result"
    }
   ],
   "source": [
    "county['fipstate'].value_counts().head()"
   ]
  },
  {
   "cell_type": "code",
   "execution_count": 5,
   "metadata": {},
   "outputs": [],
   "source": [
    "# randomly sample 20000 samples\n",
    "county = county.sample(300000).reset_index(drop = True)"
   ]
  },
  {
   "cell_type": "code",
   "execution_count": 6,
   "metadata": {},
   "outputs": [],
   "source": [
    "county = county[(county.fipstate == 48)]"
   ]
  },
  {
   "cell_type": "code",
   "execution_count": 7,
   "metadata": {},
   "outputs": [
    {
     "data": {
      "text/html": [
       "<div>\n",
       "<style scoped>\n",
       "    .dataframe tbody tr th:only-of-type {\n",
       "        vertical-align: middle;\n",
       "    }\n",
       "\n",
       "    .dataframe tbody tr th {\n",
       "        vertical-align: top;\n",
       "    }\n",
       "\n",
       "    .dataframe thead th {\n",
       "        text-align: right;\n",
       "    }\n",
       "</style>\n",
       "<table border=\"1\" class=\"dataframe\">\n",
       "  <thead>\n",
       "    <tr style=\"text-align: right;\">\n",
       "      <th></th>\n",
       "      <th>fipstate</th>\n",
       "      <th>fipscty</th>\n",
       "      <th>naics</th>\n",
       "      <th>empflag</th>\n",
       "      <th>emp_nf</th>\n",
       "      <th>emp</th>\n",
       "      <th>qp1_nf</th>\n",
       "      <th>qp1</th>\n",
       "      <th>ap_nf</th>\n",
       "      <th>ap</th>\n",
       "      <th>...</th>\n",
       "      <th>n100_249</th>\n",
       "      <th>n250_499</th>\n",
       "      <th>n500_999</th>\n",
       "      <th>n1000</th>\n",
       "      <th>n1000_1</th>\n",
       "      <th>n1000_2</th>\n",
       "      <th>n1000_3</th>\n",
       "      <th>n1000_4</th>\n",
       "      <th>censtate</th>\n",
       "      <th>cencty</th>\n",
       "    </tr>\n",
       "  </thead>\n",
       "  <tbody>\n",
       "    <tr>\n",
       "      <td>1</td>\n",
       "      <td>48</td>\n",
       "      <td>187</td>\n",
       "      <td>611699</td>\n",
       "      <td>A</td>\n",
       "      <td>D</td>\n",
       "      <td>0</td>\n",
       "      <td>D</td>\n",
       "      <td>0</td>\n",
       "      <td>D</td>\n",
       "      <td>0</td>\n",
       "      <td>...</td>\n",
       "      <td>0</td>\n",
       "      <td>0</td>\n",
       "      <td>0</td>\n",
       "      <td>0</td>\n",
       "      <td>0</td>\n",
       "      <td>0</td>\n",
       "      <td>0</td>\n",
       "      <td>0</td>\n",
       "      <td>74</td>\n",
       "      <td>187</td>\n",
       "    </tr>\n",
       "    <tr>\n",
       "      <td>13</td>\n",
       "      <td>48</td>\n",
       "      <td>479</td>\n",
       "      <td>4482//</td>\n",
       "      <td>NaN</td>\n",
       "      <td>G</td>\n",
       "      <td>301</td>\n",
       "      <td>G</td>\n",
       "      <td>1083</td>\n",
       "      <td>G</td>\n",
       "      <td>4461</td>\n",
       "      <td>...</td>\n",
       "      <td>0</td>\n",
       "      <td>0</td>\n",
       "      <td>0</td>\n",
       "      <td>0</td>\n",
       "      <td>0</td>\n",
       "      <td>0</td>\n",
       "      <td>0</td>\n",
       "      <td>0</td>\n",
       "      <td>74</td>\n",
       "      <td>479</td>\n",
       "    </tr>\n",
       "    <tr>\n",
       "      <td>41</td>\n",
       "      <td>48</td>\n",
       "      <td>167</td>\n",
       "      <td>561210</td>\n",
       "      <td>NaN</td>\n",
       "      <td>J</td>\n",
       "      <td>109</td>\n",
       "      <td>J</td>\n",
       "      <td>785</td>\n",
       "      <td>J</td>\n",
       "      <td>4117</td>\n",
       "      <td>...</td>\n",
       "      <td>0</td>\n",
       "      <td>0</td>\n",
       "      <td>0</td>\n",
       "      <td>0</td>\n",
       "      <td>0</td>\n",
       "      <td>0</td>\n",
       "      <td>0</td>\n",
       "      <td>0</td>\n",
       "      <td>74</td>\n",
       "      <td>167</td>\n",
       "    </tr>\n",
       "    <tr>\n",
       "      <td>68</td>\n",
       "      <td>48</td>\n",
       "      <td>453</td>\n",
       "      <td>624410</td>\n",
       "      <td>NaN</td>\n",
       "      <td>G</td>\n",
       "      <td>4280</td>\n",
       "      <td>G</td>\n",
       "      <td>20873</td>\n",
       "      <td>G</td>\n",
       "      <td>90024</td>\n",
       "      <td>...</td>\n",
       "      <td>1</td>\n",
       "      <td>1</td>\n",
       "      <td>0</td>\n",
       "      <td>0</td>\n",
       "      <td>0</td>\n",
       "      <td>0</td>\n",
       "      <td>0</td>\n",
       "      <td>0</td>\n",
       "      <td>74</td>\n",
       "      <td>453</td>\n",
       "    </tr>\n",
       "    <tr>\n",
       "      <td>77</td>\n",
       "      <td>48</td>\n",
       "      <td>481</td>\n",
       "      <td>211111</td>\n",
       "      <td>NaN</td>\n",
       "      <td>J</td>\n",
       "      <td>14</td>\n",
       "      <td>G</td>\n",
       "      <td>111</td>\n",
       "      <td>G</td>\n",
       "      <td>514</td>\n",
       "      <td>...</td>\n",
       "      <td>0</td>\n",
       "      <td>0</td>\n",
       "      <td>0</td>\n",
       "      <td>0</td>\n",
       "      <td>0</td>\n",
       "      <td>0</td>\n",
       "      <td>0</td>\n",
       "      <td>0</td>\n",
       "      <td>74</td>\n",
       "      <td>481</td>\n",
       "    </tr>\n",
       "  </tbody>\n",
       "</table>\n",
       "<p>5 rows × 26 columns</p>\n",
       "</div>"
      ],
      "text/plain": [
       "    fipstate  fipscty   naics empflag emp_nf   emp qp1_nf    qp1 ap_nf     ap  \\\n",
       "1         48      187  611699       A      D     0      D      0     D      0   \n",
       "13        48      479  4482//     NaN      G   301      G   1083     G   4461   \n",
       "41        48      167  561210     NaN      J   109      J    785     J   4117   \n",
       "68        48      453  624410     NaN      G  4280      G  20873     G  90024   \n",
       "77        48      481  211111     NaN      J    14      G    111     G    514   \n",
       "\n",
       "    ...  n100_249  n250_499  n500_999  n1000  n1000_1  n1000_2  n1000_3  \\\n",
       "1   ...         0         0         0      0        0        0        0   \n",
       "13  ...         0         0         0      0        0        0        0   \n",
       "41  ...         0         0         0      0        0        0        0   \n",
       "68  ...         1         1         0      0        0        0        0   \n",
       "77  ...         0         0         0      0        0        0        0   \n",
       "\n",
       "    n1000_4  censtate  cencty  \n",
       "1         0        74     187  \n",
       "13        0        74     479  \n",
       "41        0        74     167  \n",
       "68        0        74     453  \n",
       "77        0        74     481  \n",
       "\n",
       "[5 rows x 26 columns]"
      ]
     },
     "execution_count": 7,
     "metadata": {},
     "output_type": "execute_result"
    }
   ],
   "source": [
    "county.head()"
   ]
  },
  {
   "cell_type": "code",
   "execution_count": 8,
   "metadata": {},
   "outputs": [],
   "source": [
    "# combine small size companies into one category\n",
    "county[\"sz_small\"] = county[\"n1_4\"] + county[\"n5_9\"] + county[\"n10_19\"] + county[\"n20_49\"] + county[\"n50_99\"]\n",
    "\n",
    "# combine medium size companies into one category\n",
    "county[\"sz_med\"] = county[\"n100_249\"] + county[\"n250_499\"] + county[\"n500_999\"]\n",
    "\n",
    "# combine large size companies into one category\n",
    "county[\"sz_lrg\"] = county[\"n1000_1\"] + county[\"n1000_2\"] + county[\"n1000_3\"] + county[\"n1000_4\"]\n",
    "\n",
    "county = county.drop(columns = [\"empflag\", \"emp_nf\", \"qp1_nf\", \"ap_nf\", \"censtate\", \"cencty\",\n",
    "                               \"n1_4\", \"n5_9\", \"n10_19\", \"n20_49\", \"n50_99\", \"n100_249\", \"n250_499\",\n",
    "                               \"n500_999\", \"n1000\", \"n1000_1\", \"n1000_2\", \"n1000_3\", \"n1000_4\"])"
   ]
  },
  {
   "cell_type": "code",
   "execution_count": 9,
   "metadata": {},
   "outputs": [
    {
     "data": {
      "text/plain": [
       "fipstate     int64\n",
       "fipscty      int64\n",
       "naics       object\n",
       "emp          int64\n",
       "qp1          int64\n",
       "ap           int64\n",
       "est          int64\n",
       "sz_small     int64\n",
       "sz_med       int64\n",
       "sz_lrg       int64\n",
       "dtype: object"
      ]
     },
     "execution_count": 9,
     "metadata": {},
     "output_type": "execute_result"
    }
   ],
   "source": [
    "county.dtypes"
   ]
  },
  {
   "cell_type": "markdown",
   "metadata": {
    "collapsed": true
   },
   "source": [
    "# for NACIS, removing \"-\" and \"/\" and converting to integers\n",
    "# takes several minutes, you'll know when it's done from the icon on the window tab\n",
    "\n",
    "for i in range(0,len(county[\"naics\"])):\n",
    "    a = str(county[\"naics\"][i])\n",
    "    if county[\"naics\"][i] == \"------\":\n",
    "        county[\"naics\"][i] = 0\n",
    "    elif \"-\" in county[\"naics\"][i]:\n",
    "        county[\"naics\"][i] = int(a.replace(\"-\", \"\"))        \n",
    "    elif \"/\" in county[\"naics\"][i]:\n",
    "        county[\"naics\"][i] = int(a.replace(\"/\", \"\"))\n",
    "    else:\n",
    "        county[\"naics\"][i] = int(a)"
   ]
  },
  {
   "cell_type": "code",
   "execution_count": 10,
   "metadata": {},
   "outputs": [],
   "source": [
    "county.naics=county.naics.replace('-','',regex=True)\n",
    "county.naics=county.naics.replace('/','',regex=True)"
   ]
  },
  {
   "cell_type": "code",
   "execution_count": 11,
   "metadata": {},
   "outputs": [
    {
     "data": {
      "text/html": [
       "<div>\n",
       "<style scoped>\n",
       "    .dataframe tbody tr th:only-of-type {\n",
       "        vertical-align: middle;\n",
       "    }\n",
       "\n",
       "    .dataframe tbody tr th {\n",
       "        vertical-align: top;\n",
       "    }\n",
       "\n",
       "    .dataframe thead th {\n",
       "        text-align: right;\n",
       "    }\n",
       "</style>\n",
       "<table border=\"1\" class=\"dataframe\">\n",
       "  <thead>\n",
       "    <tr style=\"text-align: right;\">\n",
       "      <th></th>\n",
       "      <th>fipstate</th>\n",
       "      <th>fipscty</th>\n",
       "      <th>naics</th>\n",
       "      <th>emp</th>\n",
       "      <th>qp1</th>\n",
       "      <th>ap</th>\n",
       "      <th>est</th>\n",
       "      <th>sz_small</th>\n",
       "      <th>sz_med</th>\n",
       "      <th>sz_lrg</th>\n",
       "    </tr>\n",
       "  </thead>\n",
       "  <tbody>\n",
       "    <tr>\n",
       "      <td>1</td>\n",
       "      <td>48</td>\n",
       "      <td>187</td>\n",
       "      <td>611699</td>\n",
       "      <td>0</td>\n",
       "      <td>0</td>\n",
       "      <td>0</td>\n",
       "      <td>3</td>\n",
       "      <td>3</td>\n",
       "      <td>0</td>\n",
       "      <td>0</td>\n",
       "    </tr>\n",
       "    <tr>\n",
       "      <td>13</td>\n",
       "      <td>48</td>\n",
       "      <td>479</td>\n",
       "      <td>4482</td>\n",
       "      <td>301</td>\n",
       "      <td>1083</td>\n",
       "      <td>4461</td>\n",
       "      <td>35</td>\n",
       "      <td>35</td>\n",
       "      <td>0</td>\n",
       "      <td>0</td>\n",
       "    </tr>\n",
       "    <tr>\n",
       "      <td>41</td>\n",
       "      <td>48</td>\n",
       "      <td>167</td>\n",
       "      <td>561210</td>\n",
       "      <td>109</td>\n",
       "      <td>785</td>\n",
       "      <td>4117</td>\n",
       "      <td>3</td>\n",
       "      <td>3</td>\n",
       "      <td>0</td>\n",
       "      <td>0</td>\n",
       "    </tr>\n",
       "    <tr>\n",
       "      <td>68</td>\n",
       "      <td>48</td>\n",
       "      <td>453</td>\n",
       "      <td>624410</td>\n",
       "      <td>4280</td>\n",
       "      <td>20873</td>\n",
       "      <td>90024</td>\n",
       "      <td>251</td>\n",
       "      <td>249</td>\n",
       "      <td>2</td>\n",
       "      <td>0</td>\n",
       "    </tr>\n",
       "    <tr>\n",
       "      <td>77</td>\n",
       "      <td>48</td>\n",
       "      <td>481</td>\n",
       "      <td>211111</td>\n",
       "      <td>14</td>\n",
       "      <td>111</td>\n",
       "      <td>514</td>\n",
       "      <td>4</td>\n",
       "      <td>4</td>\n",
       "      <td>0</td>\n",
       "      <td>0</td>\n",
       "    </tr>\n",
       "  </tbody>\n",
       "</table>\n",
       "</div>"
      ],
      "text/plain": [
       "    fipstate  fipscty   naics   emp    qp1     ap  est  sz_small  sz_med  \\\n",
       "1         48      187  611699     0      0      0    3         3       0   \n",
       "13        48      479    4482   301   1083   4461   35        35       0   \n",
       "41        48      167  561210   109    785   4117    3         3       0   \n",
       "68        48      453  624410  4280  20873  90024  251       249       2   \n",
       "77        48      481  211111    14    111    514    4         4       0   \n",
       "\n",
       "    sz_lrg  \n",
       "1        0  \n",
       "13       0  \n",
       "41       0  \n",
       "68       0  \n",
       "77       0  "
      ]
     },
     "execution_count": 11,
     "metadata": {},
     "output_type": "execute_result"
    }
   ],
   "source": [
    "county.head()"
   ]
  },
  {
   "cell_type": "code",
   "execution_count": 12,
   "metadata": {},
   "outputs": [],
   "source": [
    "county = county.add_prefix('COUNTY_')\n"
   ]
  },
  {
   "cell_type": "code",
   "execution_count": 13,
   "metadata": {},
   "outputs": [
    {
     "data": {
      "text/html": [
       "<div>\n",
       "<style scoped>\n",
       "    .dataframe tbody tr th:only-of-type {\n",
       "        vertical-align: middle;\n",
       "    }\n",
       "\n",
       "    .dataframe tbody tr th {\n",
       "        vertical-align: top;\n",
       "    }\n",
       "\n",
       "    .dataframe thead th {\n",
       "        text-align: right;\n",
       "    }\n",
       "</style>\n",
       "<table border=\"1\" class=\"dataframe\">\n",
       "  <thead>\n",
       "    <tr style=\"text-align: right;\">\n",
       "      <th></th>\n",
       "      <th>COUNTY_fipstate</th>\n",
       "      <th>COUNTY_fipscty</th>\n",
       "      <th>COUNTY_naics</th>\n",
       "      <th>COUNTY_emp</th>\n",
       "      <th>COUNTY_qp1</th>\n",
       "      <th>COUNTY_ap</th>\n",
       "      <th>COUNTY_est</th>\n",
       "      <th>COUNTY_sz_small</th>\n",
       "      <th>COUNTY_sz_med</th>\n",
       "      <th>COUNTY_sz_lrg</th>\n",
       "    </tr>\n",
       "  </thead>\n",
       "  <tbody>\n",
       "    <tr>\n",
       "      <td>1</td>\n",
       "      <td>48</td>\n",
       "      <td>187</td>\n",
       "      <td>611699</td>\n",
       "      <td>0</td>\n",
       "      <td>0</td>\n",
       "      <td>0</td>\n",
       "      <td>3</td>\n",
       "      <td>3</td>\n",
       "      <td>0</td>\n",
       "      <td>0</td>\n",
       "    </tr>\n",
       "    <tr>\n",
       "      <td>13</td>\n",
       "      <td>48</td>\n",
       "      <td>479</td>\n",
       "      <td>4482</td>\n",
       "      <td>301</td>\n",
       "      <td>1083</td>\n",
       "      <td>4461</td>\n",
       "      <td>35</td>\n",
       "      <td>35</td>\n",
       "      <td>0</td>\n",
       "      <td>0</td>\n",
       "    </tr>\n",
       "    <tr>\n",
       "      <td>41</td>\n",
       "      <td>48</td>\n",
       "      <td>167</td>\n",
       "      <td>561210</td>\n",
       "      <td>109</td>\n",
       "      <td>785</td>\n",
       "      <td>4117</td>\n",
       "      <td>3</td>\n",
       "      <td>3</td>\n",
       "      <td>0</td>\n",
       "      <td>0</td>\n",
       "    </tr>\n",
       "    <tr>\n",
       "      <td>68</td>\n",
       "      <td>48</td>\n",
       "      <td>453</td>\n",
       "      <td>624410</td>\n",
       "      <td>4280</td>\n",
       "      <td>20873</td>\n",
       "      <td>90024</td>\n",
       "      <td>251</td>\n",
       "      <td>249</td>\n",
       "      <td>2</td>\n",
       "      <td>0</td>\n",
       "    </tr>\n",
       "    <tr>\n",
       "      <td>77</td>\n",
       "      <td>48</td>\n",
       "      <td>481</td>\n",
       "      <td>211111</td>\n",
       "      <td>14</td>\n",
       "      <td>111</td>\n",
       "      <td>514</td>\n",
       "      <td>4</td>\n",
       "      <td>4</td>\n",
       "      <td>0</td>\n",
       "      <td>0</td>\n",
       "    </tr>\n",
       "  </tbody>\n",
       "</table>\n",
       "</div>"
      ],
      "text/plain": [
       "    COUNTY_fipstate  COUNTY_fipscty COUNTY_naics  COUNTY_emp  COUNTY_qp1  \\\n",
       "1                48             187       611699           0           0   \n",
       "13               48             479         4482         301        1083   \n",
       "41               48             167       561210         109         785   \n",
       "68               48             453       624410        4280       20873   \n",
       "77               48             481       211111          14         111   \n",
       "\n",
       "    COUNTY_ap  COUNTY_est  COUNTY_sz_small  COUNTY_sz_med  COUNTY_sz_lrg  \n",
       "1           0           3                3              0              0  \n",
       "13       4461          35               35              0              0  \n",
       "41       4117           3                3              0              0  \n",
       "68      90024         251              249              2              0  \n",
       "77        514           4                4              0              0  "
      ]
     },
     "execution_count": 13,
     "metadata": {},
     "output_type": "execute_result"
    }
   ],
   "source": [
    "county.head()"
   ]
  },
  {
   "cell_type": "code",
   "execution_count": 14,
   "metadata": {},
   "outputs": [],
   "source": [
    "county.columns = ['fipstate', 'COUNTY_fipscty', 'naics', 'COUNTY_emp',\n",
    "       'COUNTY_qp1', 'COUNTY_ap', 'COUNTY_est', 'COUNTY_sz_small',\n",
    "       'COUNTY_sz_med', 'COUNTY_sz_lrg']"
   ]
  },
  {
   "cell_type": "markdown",
   "metadata": {},
   "source": [
    "## Your tasks\n",
    "\n",
    "1. change the dataset your respective dataset\n",
    "2. identify the columns and make sure the names are the same\n",
    "3. if you have columns that aren't in the County data, use your judgement to drop or include it\n",
    "4. go over the project proposal and understand exactly what we're trying to do\n",
    "5. feel free to ask questions if you have. But if it's coding related, please try it on your own first\n",
    "   and ask me or Sandeep if you really can't figure it out."
   ]
  },
  {
   "cell_type": "code",
   "execution_count": 15,
   "metadata": {},
   "outputs": [],
   "source": [
    "US_file = pd.read_csv('complete US file.csv',header=0, encoding='UTF-8')\n",
    "US_file = US_file.drop(['uscode',  'empflag', 'emp_nf', 'qp1_nf',\n",
    "       'ap_nf', 'f1_4', 'e1_4nf', 'e1_4', 'q1_4nf', 'q1_4',\n",
    "       'a1_4nf', 'a1_4', 'f5_9', 'e5_9nf', 'e5_9', 'q5_9nf', 'q5_9',\n",
    "       'a5_9nf', 'a5_9', 'f10_19', 'e10_19nf', 'e10_19', 'q10_19nf',\n",
    "       'q10_19', 'a10_19nf', 'a10_19', 'f20_49', 'e20_49nf',\n",
    "       'e20_49', 'q20_49nf', 'q20_49', 'a20_49nf', 'a20_49',\n",
    "       'f50_99', 'e50_99nf', 'e50_99', 'q50_99nf', 'q50_99', 'a50_99nf',\n",
    "       'a50_99', 'f100_249', 'e100_249nf', 'e100_249', 'q100_249nf',\n",
    "       'q100_249', 'a100_249nf', 'a100_249', 'f250_499',\n",
    "       'e250_499nf', 'e250_499', 'q250_499nf', 'q250_499', 'a250_499nf',\n",
    "       'a250_499', 'f500_999', 'e500_999nf', 'e500_999',\n",
    "       'q500_999nf', 'q500_999', 'a500_999nf', 'a500_999', 'f1000',\n",
    "       'e1000nf', 'e1000', 'q1000nf', 'q1000', 'a1000nf', 'a1000'],axis=1)"
   ]
  },
  {
   "cell_type": "code",
   "execution_count": 16,
   "metadata": {},
   "outputs": [],
   "source": [
    "# combine small size companies into one category\n",
    "US_file[\"sz_small\"] = US_file[\"n1_4\"] + US_file[\"n5_9\"] + US_file[\"n10_19\"] + US_file[\"n20_49\"] + US_file[\"n50_99\"]\n",
    "\n",
    "# combine medium size companies into one category\n",
    "US_file[\"sz_med\"] = US_file[\"n100_249\"] + US_file[\"n250_499\"] + US_file[\"n500_999\"]\n",
    "\n",
    "# combine large size companies into one category\n",
    "US_file[\"sz_lrg\"] = US_file[\"n1000\"] \n",
    "\n",
    "US_file = US_file.drop(columns = [\n",
    "                               \"n1_4\", \"n5_9\", \"n10_19\", \"n20_49\", \"n50_99\", \"n100_249\", \"n250_499\",\n",
    "                               \"n500_999\", \"n1000\" ])"
   ]
  },
  {
   "cell_type": "code",
   "execution_count": 17,
   "metadata": {},
   "outputs": [],
   "source": [
    "US_file.naics=US_file.naics.replace('-','',regex=True)\n",
    "US_file.naics=US_file.naics.replace('/','',regex=True)\n",
    "#US_file.lfo=US_file.lfo.replace('-','',regex=True)"
   ]
  },
  {
   "cell_type": "code",
   "execution_count": 18,
   "metadata": {},
   "outputs": [
    {
     "data": {
      "text/html": [
       "<div>\n",
       "<style scoped>\n",
       "    .dataframe tbody tr th:only-of-type {\n",
       "        vertical-align: middle;\n",
       "    }\n",
       "\n",
       "    .dataframe tbody tr th {\n",
       "        vertical-align: top;\n",
       "    }\n",
       "\n",
       "    .dataframe thead th {\n",
       "        text-align: right;\n",
       "    }\n",
       "</style>\n",
       "<table border=\"1\" class=\"dataframe\">\n",
       "  <thead>\n",
       "    <tr style=\"text-align: right;\">\n",
       "      <th></th>\n",
       "      <th>naics</th>\n",
       "      <th>lfo</th>\n",
       "      <th>emp</th>\n",
       "      <th>qp1</th>\n",
       "      <th>ap</th>\n",
       "      <th>est</th>\n",
       "      <th>sz_small</th>\n",
       "      <th>sz_med</th>\n",
       "      <th>sz_lrg</th>\n",
       "    </tr>\n",
       "  </thead>\n",
       "  <tbody>\n",
       "    <tr>\n",
       "      <td>0</td>\n",
       "      <td></td>\n",
       "      <td>-</td>\n",
       "      <td>126752238</td>\n",
       "      <td>1604399617</td>\n",
       "      <td>6435142055</td>\n",
       "      <td>7757807</td>\n",
       "      <td>7568676</td>\n",
       "      <td>181471</td>\n",
       "      <td>7660</td>\n",
       "    </tr>\n",
       "    <tr>\n",
       "      <td>1</td>\n",
       "      <td></td>\n",
       "      <td>C</td>\n",
       "      <td>55545767</td>\n",
       "      <td>888858468</td>\n",
       "      <td>3363492811</td>\n",
       "      <td>2114076</td>\n",
       "      <td>2014258</td>\n",
       "      <td>95948</td>\n",
       "      <td>3870</td>\n",
       "    </tr>\n",
       "    <tr>\n",
       "      <td>2</td>\n",
       "      <td></td>\n",
       "      <td>Z</td>\n",
       "      <td>33631600</td>\n",
       "      <td>313406667</td>\n",
       "      <td>1405230530</td>\n",
       "      <td>3251536</td>\n",
       "      <td>3213293</td>\n",
       "      <td>37534</td>\n",
       "      <td>709</td>\n",
       "    </tr>\n",
       "    <tr>\n",
       "      <td>3</td>\n",
       "      <td></td>\n",
       "      <td>S</td>\n",
       "      <td>4749707</td>\n",
       "      <td>37112956</td>\n",
       "      <td>157784272</td>\n",
       "      <td>899679</td>\n",
       "      <td>895824</td>\n",
       "      <td>3715</td>\n",
       "      <td>140</td>\n",
       "    </tr>\n",
       "    <tr>\n",
       "      <td>4</td>\n",
       "      <td></td>\n",
       "      <td>P</td>\n",
       "      <td>14926406</td>\n",
       "      <td>167485849</td>\n",
       "      <td>682046178</td>\n",
       "      <td>883952</td>\n",
       "      <td>861739</td>\n",
       "      <td>21636</td>\n",
       "      <td>577</td>\n",
       "    </tr>\n",
       "  </tbody>\n",
       "</table>\n",
       "</div>"
      ],
      "text/plain": [
       "  naics lfo        emp         qp1          ap      est  sz_small  sz_med  \\\n",
       "0         -  126752238  1604399617  6435142055  7757807   7568676  181471   \n",
       "1         C   55545767   888858468  3363492811  2114076   2014258   95948   \n",
       "2         Z   33631600   313406667  1405230530  3251536   3213293   37534   \n",
       "3         S    4749707    37112956   157784272   899679    895824    3715   \n",
       "4         P   14926406   167485849   682046178   883952    861739   21636   \n",
       "\n",
       "   sz_lrg  \n",
       "0    7660  \n",
       "1    3870  \n",
       "2     709  \n",
       "3     140  \n",
       "4     577  "
      ]
     },
     "execution_count": 18,
     "metadata": {},
     "output_type": "execute_result"
    }
   ],
   "source": [
    "US_file.head()"
   ]
  },
  {
   "cell_type": "code",
   "execution_count": 19,
   "metadata": {},
   "outputs": [],
   "source": [
    "US_file = US_file.add_prefix('US_')\n",
    "\n"
   ]
  },
  {
   "cell_type": "code",
   "execution_count": 20,
   "metadata": {},
   "outputs": [
    {
     "data": {
      "text/plain": [
       "Index(['US_naics', 'US_lfo', 'US_emp', 'US_qp1', 'US_ap', 'US_est',\n",
       "       'US_sz_small', 'US_sz_med', 'US_sz_lrg'],\n",
       "      dtype='object')"
      ]
     },
     "execution_count": 20,
     "metadata": {},
     "output_type": "execute_result"
    }
   ],
   "source": [
    "US_file.columns"
   ]
  },
  {
   "cell_type": "code",
   "execution_count": 21,
   "metadata": {},
   "outputs": [],
   "source": [
    "US_file.columns = ['naics', 'US_lfo', 'US_emp', 'US_qp1', 'US_ap', 'US_est',\n",
    "       'US_sz_small', 'US_sz_med', 'US_sz_lrg']"
   ]
  },
  {
   "cell_type": "code",
   "execution_count": 22,
   "metadata": {},
   "outputs": [],
   "source": [
    "state = pd.read_csv(\"complete state file.csv\") # specific directory for where the dataset is"
   ]
  },
  {
   "cell_type": "code",
   "execution_count": 23,
   "metadata": {},
   "outputs": [],
   "source": [
    "# combine small size companies into one category\n",
    "state[\"sz_small\"] = state[\"n1_4\"] + state[\"n5_9\"] + state[\"n10_19\"] + state[\"n20_49\"] + state[\"n50_99\"]\n",
    "\n",
    "# combine medium size companies into one category\n",
    "state[\"sz_med\"] = state[\"n100_249\"] + state[\"n250_499\"] + state[\"n500_999\"]\n",
    "\n",
    "# combine large size companies into one category\n",
    "state[\"sz_lrg\"] = state[\"n1000\"] \n",
    "state = state.drop(columns = [\"f500_999\",\"f1_4\",\"e1_4nf\",\"empflag\",\"q1_4nf\",\"a1_4nf\",\"e5_9nf\",\"q5_9nf\",\"a5_9nf\",\"f10_19\",\"e10_19nf\",\"q10_19nf\",\"a10_19nf\",\"f20_49\",\"e20_49nf\",\"q20_49nf\",\"emp_nf\", \"qp1_nf\", \"ap_nf\", \"censtate\",\"f1000\",\n",
    "                               \"n1_4\", \"n5_9\", \"n10_19\", \"n20_49\", \"n50_99\", \"n100_249\", \"n250_499\",\n",
    "                               \"n500_999\", \"n1000\",\"e50_99nf\",\"q50_99nf\",\"a50_99nf\",\"f100_249\",\"e100_249nf\",\"q100_249nf\",\"a100_249nf\",\"e250_499nf\",\"q250_499nf\",\"a250_499nf\",\"e500_999nf\",\"q500_999nf\",\"a500_999nf\",\"e1000nf\",\"q1000nf\",\"a1000nf\",\n",
    "                                    'e1_4', 'q1_4',\n",
    "                               'a1_4', 'f5_9', 'e5_9', 'q5_9', 'a5_9', 'e10_19', 'q10_19', 'a10_19',\n",
    "                               'e20_49', 'q20_49', 'a20_49nf', 'a20_49', 'f50_99', 'e50_99', 'q50_99',\n",
    "                               'a50_99', 'e100_249', 'q100_249', 'a100_249', 'f250_499', 'e250_499',\n",
    "                               'q250_499', 'a250_499', 'e500_999', 'q500_999', 'a500_999', 'e1000',\n",
    "                               'q1000', 'a1000', ])"
   ]
  },
  {
   "cell_type": "code",
   "execution_count": 24,
   "metadata": {},
   "outputs": [
    {
     "data": {
      "text/html": [
       "<div>\n",
       "<style scoped>\n",
       "    .dataframe tbody tr th:only-of-type {\n",
       "        vertical-align: middle;\n",
       "    }\n",
       "\n",
       "    .dataframe tbody tr th {\n",
       "        vertical-align: top;\n",
       "    }\n",
       "\n",
       "    .dataframe thead th {\n",
       "        text-align: right;\n",
       "    }\n",
       "</style>\n",
       "<table border=\"1\" class=\"dataframe\">\n",
       "  <thead>\n",
       "    <tr style=\"text-align: right;\">\n",
       "      <th></th>\n",
       "      <th>fipstate</th>\n",
       "      <th>naics</th>\n",
       "      <th>lfo</th>\n",
       "      <th>emp</th>\n",
       "      <th>qp1</th>\n",
       "      <th>ap</th>\n",
       "      <th>est</th>\n",
       "      <th>sz_small</th>\n",
       "      <th>sz_med</th>\n",
       "      <th>sz_lrg</th>\n",
       "    </tr>\n",
       "  </thead>\n",
       "  <tbody>\n",
       "    <tr>\n",
       "      <td>0</td>\n",
       "      <td>1</td>\n",
       "      <td>------</td>\n",
       "      <td>-</td>\n",
       "      <td>1673249</td>\n",
       "      <td>16667378</td>\n",
       "      <td>68970623</td>\n",
       "      <td>99584</td>\n",
       "      <td>97088</td>\n",
       "      <td>2404</td>\n",
       "      <td>92</td>\n",
       "    </tr>\n",
       "    <tr>\n",
       "      <td>1</td>\n",
       "      <td>1</td>\n",
       "      <td>------</td>\n",
       "      <td>C</td>\n",
       "      <td>766685</td>\n",
       "      <td>8868459</td>\n",
       "      <td>35219759</td>\n",
       "      <td>28682</td>\n",
       "      <td>27284</td>\n",
       "      <td>1349</td>\n",
       "      <td>49</td>\n",
       "    </tr>\n",
       "    <tr>\n",
       "      <td>2</td>\n",
       "      <td>1</td>\n",
       "      <td>------</td>\n",
       "      <td>Z</td>\n",
       "      <td>473577</td>\n",
       "      <td>4150278</td>\n",
       "      <td>18378077</td>\n",
       "      <td>37856</td>\n",
       "      <td>37302</td>\n",
       "      <td>541</td>\n",
       "      <td>13</td>\n",
       "    </tr>\n",
       "    <tr>\n",
       "      <td>3</td>\n",
       "      <td>1</td>\n",
       "      <td>------</td>\n",
       "      <td>S</td>\n",
       "      <td>67223</td>\n",
       "      <td>490235</td>\n",
       "      <td>2119042</td>\n",
       "      <td>11465</td>\n",
       "      <td>11413</td>\n",
       "      <td>50</td>\n",
       "      <td>2</td>\n",
       "    </tr>\n",
       "    <tr>\n",
       "      <td>4</td>\n",
       "      <td>1</td>\n",
       "      <td>------</td>\n",
       "      <td>P</td>\n",
       "      <td>180868</td>\n",
       "      <td>1518668</td>\n",
       "      <td>6433918</td>\n",
       "      <td>11941</td>\n",
       "      <td>11691</td>\n",
       "      <td>243</td>\n",
       "      <td>7</td>\n",
       "    </tr>\n",
       "  </tbody>\n",
       "</table>\n",
       "</div>"
      ],
      "text/plain": [
       "   fipstate   naics lfo      emp       qp1        ap    est  sz_small  sz_med  \\\n",
       "0         1  ------   -  1673249  16667378  68970623  99584     97088    2404   \n",
       "1         1  ------   C   766685   8868459  35219759  28682     27284    1349   \n",
       "2         1  ------   Z   473577   4150278  18378077  37856     37302     541   \n",
       "3         1  ------   S    67223    490235   2119042  11465     11413      50   \n",
       "4         1  ------   P   180868   1518668   6433918  11941     11691     243   \n",
       "\n",
       "   sz_lrg  \n",
       "0      92  \n",
       "1      49  \n",
       "2      13  \n",
       "3       2  \n",
       "4       7  "
      ]
     },
     "execution_count": 24,
     "metadata": {},
     "output_type": "execute_result"
    }
   ],
   "source": [
    "state.head()"
   ]
  },
  {
   "cell_type": "code",
   "execution_count": 25,
   "metadata": {},
   "outputs": [],
   "source": [
    "state.naics=state.naics.replace('-','',regex=True)"
   ]
  },
  {
   "cell_type": "code",
   "execution_count": 26,
   "metadata": {},
   "outputs": [],
   "source": [
    "state.naics=state.naics.replace('/','',regex=True)"
   ]
  },
  {
   "cell_type": "code",
   "execution_count": 27,
   "metadata": {},
   "outputs": [
    {
     "data": {
      "text/plain": [
       "fipstate    0\n",
       "naics       0\n",
       "lfo         0\n",
       "emp         0\n",
       "qp1         0\n",
       "ap          0\n",
       "est         0\n",
       "sz_small    0\n",
       "sz_med      0\n",
       "sz_lrg      0\n",
       "dtype: int64"
      ]
     },
     "execution_count": 27,
     "metadata": {},
     "output_type": "execute_result"
    }
   ],
   "source": [
    "state.isnull().sum()"
   ]
  },
  {
   "cell_type": "code",
   "execution_count": 28,
   "metadata": {},
   "outputs": [
    {
     "data": {
      "text/plain": [
       "(448310, 10)"
      ]
     },
     "execution_count": 28,
     "metadata": {},
     "output_type": "execute_result"
    }
   ],
   "source": [
    "state.shape"
   ]
  },
  {
   "cell_type": "code",
   "execution_count": 29,
   "metadata": {},
   "outputs": [],
   "source": [
    "#state['fipstate'].value_counts()\n"
   ]
  },
  {
   "cell_type": "code",
   "execution_count": 30,
   "metadata": {},
   "outputs": [],
   "source": [
    "state = state.add_prefix('state_')\n",
    "\n"
   ]
  },
  {
   "cell_type": "code",
   "execution_count": 31,
   "metadata": {},
   "outputs": [
    {
     "data": {
      "text/plain": [
       "Index(['state_fipstate', 'state_naics', 'state_lfo', 'state_emp', 'state_qp1',\n",
       "       'state_ap', 'state_est', 'state_sz_small', 'state_sz_med',\n",
       "       'state_sz_lrg'],\n",
       "      dtype='object')"
      ]
     },
     "execution_count": 31,
     "metadata": {},
     "output_type": "execute_result"
    }
   ],
   "source": [
    "state.columns"
   ]
  },
  {
   "cell_type": "code",
   "execution_count": null,
   "metadata": {},
   "outputs": [],
   "source": []
  },
  {
   "cell_type": "code",
   "execution_count": 32,
   "metadata": {},
   "outputs": [],
   "source": [
    "state.columns = ['fipstate', 'naics', 'state_lfo', 'state_emp', 'state_qp1',\n",
    "       'state_ap', 'state_est', 'state_sz_small', 'state_sz_med',\n",
    "       'state_sz_lrg']"
   ]
  },
  {
   "cell_type": "code",
   "execution_count": 33,
   "metadata": {},
   "outputs": [
    {
     "data": {
      "text/plain": [
       "Index(['fipstate', 'COUNTY_fipscty', 'naics', 'COUNTY_emp', 'COUNTY_qp1',\n",
       "       'COUNTY_ap', 'COUNTY_est', 'COUNTY_sz_small', 'COUNTY_sz_med',\n",
       "       'COUNTY_sz_lrg'],\n",
       "      dtype='object')"
      ]
     },
     "execution_count": 33,
     "metadata": {},
     "output_type": "execute_result"
    }
   ],
   "source": [
    "county.columns"
   ]
  },
  {
   "cell_type": "code",
   "execution_count": 34,
   "metadata": {},
   "outputs": [],
   "source": [
    "metro = pd.read_csv(\"complete metropolitan area file.csv\") # specific directory for where the dataset is"
   ]
  },
  {
   "cell_type": "code",
   "execution_count": 35,
   "metadata": {},
   "outputs": [],
   "source": [
    "# combine small size companies into one category\n",
    "metro[\"sz_small\"] = metro[\"n1_4\"] + metro[\"n5_9\"] + metro[\"n10_19\"] + metro[\"n20_49\"] + metro[\"n50_99\"]\n",
    "\n",
    "# combine medium size companies into one category\n",
    "metro[\"sz_med\"] = metro[\"n100_249\"] + metro[\"n250_499\"] + metro[\"n500_999\"]\n",
    "\n",
    "# combine large size companies into one category\n",
    "metro[\"sz_lrg\"] = metro[\"n1000_1\"] + metro[\"n1000_2\"] + metro[\"n1000_3\"] + metro[\"n1000_4\"]\n",
    "\n"
   ]
  },
  {
   "cell_type": "code",
   "execution_count": 36,
   "metadata": {},
   "outputs": [],
   "source": [
    "metro = metro.drop(columns = [\"empflag\", \"emp_nf\", \"qp1_nf\", \"ap_nf\",\n",
    "                               \"n1_4\", \"n5_9\", \"n10_19\", \"n20_49\", \"n50_99\", \"n100_249\", \"n250_499\",\n",
    "                               \"n500_999\", \"n1000\", \"n1000_1\", \"n1000_2\", \"n1000_3\", \"n1000_4\"])"
   ]
  },
  {
   "cell_type": "code",
   "execution_count": 37,
   "metadata": {},
   "outputs": [],
   "source": [
    "metro.naics=metro.naics.replace('-','',regex=True)\n",
    "metro.naics=metro.naics.replace('/','',regex=True)"
   ]
  },
  {
   "cell_type": "code",
   "execution_count": 38,
   "metadata": {},
   "outputs": [
    {
     "data": {
      "text/html": [
       "<div>\n",
       "<style scoped>\n",
       "    .dataframe tbody tr th:only-of-type {\n",
       "        vertical-align: middle;\n",
       "    }\n",
       "\n",
       "    .dataframe tbody tr th {\n",
       "        vertical-align: top;\n",
       "    }\n",
       "\n",
       "    .dataframe thead th {\n",
       "        text-align: right;\n",
       "    }\n",
       "</style>\n",
       "<table border=\"1\" class=\"dataframe\">\n",
       "  <thead>\n",
       "    <tr style=\"text-align: right;\">\n",
       "      <th></th>\n",
       "      <th>msa</th>\n",
       "      <th>naics</th>\n",
       "      <th>emp</th>\n",
       "      <th>qp1</th>\n",
       "      <th>ap</th>\n",
       "      <th>est</th>\n",
       "      <th>sz_small</th>\n",
       "      <th>sz_med</th>\n",
       "      <th>sz_lrg</th>\n",
       "    </tr>\n",
       "  </thead>\n",
       "  <tbody>\n",
       "    <tr>\n",
       "      <td>0</td>\n",
       "      <td>10100</td>\n",
       "      <td></td>\n",
       "      <td>19533</td>\n",
       "      <td>173691</td>\n",
       "      <td>746190</td>\n",
       "      <td>1418</td>\n",
       "      <td>1390</td>\n",
       "      <td>27</td>\n",
       "      <td>1</td>\n",
       "    </tr>\n",
       "    <tr>\n",
       "      <td>1</td>\n",
       "      <td>10100</td>\n",
       "      <td>11</td>\n",
       "      <td>20</td>\n",
       "      <td>188</td>\n",
       "      <td>1161</td>\n",
       "      <td>8</td>\n",
       "      <td>8</td>\n",
       "      <td>0</td>\n",
       "      <td>0</td>\n",
       "    </tr>\n",
       "    <tr>\n",
       "      <td>2</td>\n",
       "      <td>10100</td>\n",
       "      <td>115</td>\n",
       "      <td>20</td>\n",
       "      <td>188</td>\n",
       "      <td>1161</td>\n",
       "      <td>8</td>\n",
       "      <td>8</td>\n",
       "      <td>0</td>\n",
       "      <td>0</td>\n",
       "    </tr>\n",
       "    <tr>\n",
       "      <td>3</td>\n",
       "      <td>10100</td>\n",
       "      <td>1151</td>\n",
       "      <td>20</td>\n",
       "      <td>188</td>\n",
       "      <td>1159</td>\n",
       "      <td>7</td>\n",
       "      <td>7</td>\n",
       "      <td>0</td>\n",
       "      <td>0</td>\n",
       "    </tr>\n",
       "    <tr>\n",
       "      <td>4</td>\n",
       "      <td>10100</td>\n",
       "      <td>11511</td>\n",
       "      <td>20</td>\n",
       "      <td>188</td>\n",
       "      <td>1159</td>\n",
       "      <td>7</td>\n",
       "      <td>7</td>\n",
       "      <td>0</td>\n",
       "      <td>0</td>\n",
       "    </tr>\n",
       "  </tbody>\n",
       "</table>\n",
       "</div>"
      ],
      "text/plain": [
       "     msa  naics    emp     qp1      ap   est  sz_small  sz_med  sz_lrg\n",
       "0  10100         19533  173691  746190  1418      1390      27       1\n",
       "1  10100     11     20     188    1161     8         8       0       0\n",
       "2  10100    115     20     188    1161     8         8       0       0\n",
       "3  10100   1151     20     188    1159     7         7       0       0\n",
       "4  10100  11511     20     188    1159     7         7       0       0"
      ]
     },
     "execution_count": 38,
     "metadata": {},
     "output_type": "execute_result"
    }
   ],
   "source": [
    "metro.head()"
   ]
  },
  {
   "cell_type": "code",
   "execution_count": 39,
   "metadata": {},
   "outputs": [],
   "source": [
    "metro = metro.add_prefix('metro_')"
   ]
  },
  {
   "cell_type": "code",
   "execution_count": 40,
   "metadata": {},
   "outputs": [
    {
     "data": {
      "text/plain": [
       "Index(['metro_msa', 'metro_naics', 'metro_emp', 'metro_qp1', 'metro_ap',\n",
       "       'metro_est', 'metro_sz_small', 'metro_sz_med', 'metro_sz_lrg'],\n",
       "      dtype='object')"
      ]
     },
     "execution_count": 40,
     "metadata": {},
     "output_type": "execute_result"
    }
   ],
   "source": [
    "metro.columns"
   ]
  },
  {
   "cell_type": "code",
   "execution_count": 41,
   "metadata": {},
   "outputs": [],
   "source": [
    "metro.columns = ['metro_msa', 'naics', 'metro_emp', 'metro_qp1', 'metro_ap',\n",
    "       'metro_est', 'metro_sz_small', 'metro_sz_med', 'metro_sz_lrg']"
   ]
  },
  {
   "cell_type": "code",
   "execution_count": 42,
   "metadata": {},
   "outputs": [],
   "source": [
    "cs = [county,state] "
   ]
  },
  {
   "cell_type": "code",
   "execution_count": 43,
   "metadata": {},
   "outputs": [],
   "source": [
    "from functools import reduce"
   ]
  },
  {
   "cell_type": "code",
   "execution_count": 44,
   "metadata": {},
   "outputs": [],
   "source": [
    "C_S = reduce(lambda left,right: pd.merge(left,right,on=['naics','fipstate']), cs) #reducting naics to 1 from 2"
   ]
  },
  {
   "cell_type": "code",
   "execution_count": 45,
   "metadata": {},
   "outputs": [
    {
     "data": {
      "text/html": [
       "<div>\n",
       "<style scoped>\n",
       "    .dataframe tbody tr th:only-of-type {\n",
       "        vertical-align: middle;\n",
       "    }\n",
       "\n",
       "    .dataframe tbody tr th {\n",
       "        vertical-align: top;\n",
       "    }\n",
       "\n",
       "    .dataframe thead th {\n",
       "        text-align: right;\n",
       "    }\n",
       "</style>\n",
       "<table border=\"1\" class=\"dataframe\">\n",
       "  <thead>\n",
       "    <tr style=\"text-align: right;\">\n",
       "      <th></th>\n",
       "      <th>fipstate</th>\n",
       "      <th>COUNTY_fipscty</th>\n",
       "      <th>naics</th>\n",
       "      <th>COUNTY_emp</th>\n",
       "      <th>COUNTY_qp1</th>\n",
       "      <th>COUNTY_ap</th>\n",
       "      <th>COUNTY_est</th>\n",
       "      <th>COUNTY_sz_small</th>\n",
       "      <th>COUNTY_sz_med</th>\n",
       "      <th>COUNTY_sz_lrg</th>\n",
       "      <th>state_lfo</th>\n",
       "      <th>state_emp</th>\n",
       "      <th>state_qp1</th>\n",
       "      <th>state_ap</th>\n",
       "      <th>state_est</th>\n",
       "      <th>state_sz_small</th>\n",
       "      <th>state_sz_med</th>\n",
       "      <th>state_sz_lrg</th>\n",
       "    </tr>\n",
       "  </thead>\n",
       "  <tbody>\n",
       "    <tr>\n",
       "      <td>0</td>\n",
       "      <td>48</td>\n",
       "      <td>187</td>\n",
       "      <td>611699</td>\n",
       "      <td>0</td>\n",
       "      <td>0</td>\n",
       "      <td>0</td>\n",
       "      <td>3</td>\n",
       "      <td>3</td>\n",
       "      <td>0</td>\n",
       "      <td>0</td>\n",
       "      <td>-</td>\n",
       "      <td>3276</td>\n",
       "      <td>18348</td>\n",
       "      <td>82041</td>\n",
       "      <td>439</td>\n",
       "      <td>437</td>\n",
       "      <td>2</td>\n",
       "      <td>0</td>\n",
       "    </tr>\n",
       "    <tr>\n",
       "      <td>1</td>\n",
       "      <td>48</td>\n",
       "      <td>187</td>\n",
       "      <td>611699</td>\n",
       "      <td>0</td>\n",
       "      <td>0</td>\n",
       "      <td>0</td>\n",
       "      <td>3</td>\n",
       "      <td>3</td>\n",
       "      <td>0</td>\n",
       "      <td>0</td>\n",
       "      <td>C</td>\n",
       "      <td>808</td>\n",
       "      <td>4451</td>\n",
       "      <td>17849</td>\n",
       "      <td>68</td>\n",
       "      <td>67</td>\n",
       "      <td>1</td>\n",
       "      <td>0</td>\n",
       "    </tr>\n",
       "    <tr>\n",
       "      <td>2</td>\n",
       "      <td>48</td>\n",
       "      <td>187</td>\n",
       "      <td>611699</td>\n",
       "      <td>0</td>\n",
       "      <td>0</td>\n",
       "      <td>0</td>\n",
       "      <td>3</td>\n",
       "      <td>3</td>\n",
       "      <td>0</td>\n",
       "      <td>0</td>\n",
       "      <td>Z</td>\n",
       "      <td>861</td>\n",
       "      <td>5801</td>\n",
       "      <td>28557</td>\n",
       "      <td>164</td>\n",
       "      <td>164</td>\n",
       "      <td>0</td>\n",
       "      <td>0</td>\n",
       "    </tr>\n",
       "    <tr>\n",
       "      <td>3</td>\n",
       "      <td>48</td>\n",
       "      <td>187</td>\n",
       "      <td>611699</td>\n",
       "      <td>0</td>\n",
       "      <td>0</td>\n",
       "      <td>0</td>\n",
       "      <td>3</td>\n",
       "      <td>3</td>\n",
       "      <td>0</td>\n",
       "      <td>0</td>\n",
       "      <td>S</td>\n",
       "      <td>187</td>\n",
       "      <td>476</td>\n",
       "      <td>2036</td>\n",
       "      <td>56</td>\n",
       "      <td>56</td>\n",
       "      <td>0</td>\n",
       "      <td>0</td>\n",
       "    </tr>\n",
       "    <tr>\n",
       "      <td>4</td>\n",
       "      <td>48</td>\n",
       "      <td>187</td>\n",
       "      <td>611699</td>\n",
       "      <td>0</td>\n",
       "      <td>0</td>\n",
       "      <td>0</td>\n",
       "      <td>3</td>\n",
       "      <td>3</td>\n",
       "      <td>0</td>\n",
       "      <td>0</td>\n",
       "      <td>P</td>\n",
       "      <td>541</td>\n",
       "      <td>2097</td>\n",
       "      <td>10502</td>\n",
       "      <td>79</td>\n",
       "      <td>79</td>\n",
       "      <td>0</td>\n",
       "      <td>0</td>\n",
       "    </tr>\n",
       "  </tbody>\n",
       "</table>\n",
       "</div>"
      ],
      "text/plain": [
       "   fipstate  COUNTY_fipscty   naics  COUNTY_emp  COUNTY_qp1  COUNTY_ap  \\\n",
       "0        48             187  611699           0           0          0   \n",
       "1        48             187  611699           0           0          0   \n",
       "2        48             187  611699           0           0          0   \n",
       "3        48             187  611699           0           0          0   \n",
       "4        48             187  611699           0           0          0   \n",
       "\n",
       "   COUNTY_est  COUNTY_sz_small  COUNTY_sz_med  COUNTY_sz_lrg state_lfo  \\\n",
       "0           3                3              0              0         -   \n",
       "1           3                3              0              0         C   \n",
       "2           3                3              0              0         Z   \n",
       "3           3                3              0              0         S   \n",
       "4           3                3              0              0         P   \n",
       "\n",
       "   state_emp  state_qp1  state_ap  state_est  state_sz_small  state_sz_med  \\\n",
       "0       3276      18348     82041        439             437             2   \n",
       "1        808       4451     17849         68              67             1   \n",
       "2        861       5801     28557        164             164             0   \n",
       "3        187        476      2036         56              56             0   \n",
       "4        541       2097     10502         79              79             0   \n",
       "\n",
       "   state_sz_lrg  \n",
       "0             0  \n",
       "1             0  \n",
       "2             0  \n",
       "3             0  \n",
       "4             0  "
      ]
     },
     "execution_count": 45,
     "metadata": {},
     "output_type": "execute_result"
    }
   ],
   "source": [
    "C_S.head()"
   ]
  },
  {
   "cell_type": "code",
   "execution_count": 46,
   "metadata": {},
   "outputs": [],
   "source": [
    "csus= [C_S,US_file]"
   ]
  },
  {
   "cell_type": "code",
   "execution_count": null,
   "metadata": {},
   "outputs": [],
   "source": []
  },
  {
   "cell_type": "code",
   "execution_count": 47,
   "metadata": {},
   "outputs": [],
   "source": [
    "S_US = reduce(lambda left,right: pd.merge(left,right,on='naics'), csus) #reducting naics to 1 from 2"
   ]
  },
  {
   "cell_type": "code",
   "execution_count": 48,
   "metadata": {},
   "outputs": [
    {
     "data": {
      "text/html": [
       "<div>\n",
       "<style scoped>\n",
       "    .dataframe tbody tr th:only-of-type {\n",
       "        vertical-align: middle;\n",
       "    }\n",
       "\n",
       "    .dataframe tbody tr th {\n",
       "        vertical-align: top;\n",
       "    }\n",
       "\n",
       "    .dataframe thead th {\n",
       "        text-align: right;\n",
       "    }\n",
       "</style>\n",
       "<table border=\"1\" class=\"dataframe\">\n",
       "  <thead>\n",
       "    <tr style=\"text-align: right;\">\n",
       "      <th></th>\n",
       "      <th>fipstate</th>\n",
       "      <th>COUNTY_fipscty</th>\n",
       "      <th>naics</th>\n",
       "      <th>COUNTY_emp</th>\n",
       "      <th>COUNTY_qp1</th>\n",
       "      <th>COUNTY_ap</th>\n",
       "      <th>COUNTY_est</th>\n",
       "      <th>COUNTY_sz_small</th>\n",
       "      <th>COUNTY_sz_med</th>\n",
       "      <th>COUNTY_sz_lrg</th>\n",
       "      <th>...</th>\n",
       "      <th>state_sz_med</th>\n",
       "      <th>state_sz_lrg</th>\n",
       "      <th>US_lfo</th>\n",
       "      <th>US_emp</th>\n",
       "      <th>US_qp1</th>\n",
       "      <th>US_ap</th>\n",
       "      <th>US_est</th>\n",
       "      <th>US_sz_small</th>\n",
       "      <th>US_sz_med</th>\n",
       "      <th>US_sz_lrg</th>\n",
       "    </tr>\n",
       "  </thead>\n",
       "  <tbody>\n",
       "    <tr>\n",
       "      <td>0</td>\n",
       "      <td>48</td>\n",
       "      <td>187</td>\n",
       "      <td>611699</td>\n",
       "      <td>0</td>\n",
       "      <td>0</td>\n",
       "      <td>0</td>\n",
       "      <td>3</td>\n",
       "      <td>3</td>\n",
       "      <td>0</td>\n",
       "      <td>0</td>\n",
       "      <td>...</td>\n",
       "      <td>2</td>\n",
       "      <td>0</td>\n",
       "      <td>-</td>\n",
       "      <td>51899</td>\n",
       "      <td>313039</td>\n",
       "      <td>1359848</td>\n",
       "      <td>6735</td>\n",
       "      <td>6686</td>\n",
       "      <td>49</td>\n",
       "      <td>0</td>\n",
       "    </tr>\n",
       "    <tr>\n",
       "      <td>1</td>\n",
       "      <td>48</td>\n",
       "      <td>187</td>\n",
       "      <td>611699</td>\n",
       "      <td>0</td>\n",
       "      <td>0</td>\n",
       "      <td>0</td>\n",
       "      <td>3</td>\n",
       "      <td>3</td>\n",
       "      <td>0</td>\n",
       "      <td>0</td>\n",
       "      <td>...</td>\n",
       "      <td>2</td>\n",
       "      <td>0</td>\n",
       "      <td>C</td>\n",
       "      <td>13053</td>\n",
       "      <td>94122</td>\n",
       "      <td>382036</td>\n",
       "      <td>772</td>\n",
       "      <td>744</td>\n",
       "      <td>28</td>\n",
       "      <td>0</td>\n",
       "    </tr>\n",
       "    <tr>\n",
       "      <td>2</td>\n",
       "      <td>48</td>\n",
       "      <td>187</td>\n",
       "      <td>611699</td>\n",
       "      <td>0</td>\n",
       "      <td>0</td>\n",
       "      <td>0</td>\n",
       "      <td>3</td>\n",
       "      <td>3</td>\n",
       "      <td>0</td>\n",
       "      <td>0</td>\n",
       "      <td>...</td>\n",
       "      <td>2</td>\n",
       "      <td>0</td>\n",
       "      <td>Z</td>\n",
       "      <td>13820</td>\n",
       "      <td>81474</td>\n",
       "      <td>370113</td>\n",
       "      <td>2726</td>\n",
       "      <td>2719</td>\n",
       "      <td>7</td>\n",
       "      <td>0</td>\n",
       "    </tr>\n",
       "    <tr>\n",
       "      <td>3</td>\n",
       "      <td>48</td>\n",
       "      <td>187</td>\n",
       "      <td>611699</td>\n",
       "      <td>0</td>\n",
       "      <td>0</td>\n",
       "      <td>0</td>\n",
       "      <td>3</td>\n",
       "      <td>3</td>\n",
       "      <td>0</td>\n",
       "      <td>0</td>\n",
       "      <td>...</td>\n",
       "      <td>2</td>\n",
       "      <td>0</td>\n",
       "      <td>S</td>\n",
       "      <td>4089</td>\n",
       "      <td>11271</td>\n",
       "      <td>52412</td>\n",
       "      <td>849</td>\n",
       "      <td>847</td>\n",
       "      <td>2</td>\n",
       "      <td>0</td>\n",
       "    </tr>\n",
       "    <tr>\n",
       "      <td>4</td>\n",
       "      <td>48</td>\n",
       "      <td>187</td>\n",
       "      <td>611699</td>\n",
       "      <td>0</td>\n",
       "      <td>0</td>\n",
       "      <td>0</td>\n",
       "      <td>3</td>\n",
       "      <td>3</td>\n",
       "      <td>0</td>\n",
       "      <td>0</td>\n",
       "      <td>...</td>\n",
       "      <td>2</td>\n",
       "      <td>0</td>\n",
       "      <td>P</td>\n",
       "      <td>7045</td>\n",
       "      <td>29269</td>\n",
       "      <td>133911</td>\n",
       "      <td>896</td>\n",
       "      <td>896</td>\n",
       "      <td>0</td>\n",
       "      <td>0</td>\n",
       "    </tr>\n",
       "    <tr>\n",
       "      <td>5</td>\n",
       "      <td>48</td>\n",
       "      <td>187</td>\n",
       "      <td>611699</td>\n",
       "      <td>0</td>\n",
       "      <td>0</td>\n",
       "      <td>0</td>\n",
       "      <td>3</td>\n",
       "      <td>3</td>\n",
       "      <td>0</td>\n",
       "      <td>0</td>\n",
       "      <td>...</td>\n",
       "      <td>2</td>\n",
       "      <td>0</td>\n",
       "      <td>N</td>\n",
       "      <td>13880</td>\n",
       "      <td>96894</td>\n",
       "      <td>421347</td>\n",
       "      <td>1489</td>\n",
       "      <td>1477</td>\n",
       "      <td>12</td>\n",
       "      <td>0</td>\n",
       "    </tr>\n",
       "    <tr>\n",
       "      <td>6</td>\n",
       "      <td>48</td>\n",
       "      <td>187</td>\n",
       "      <td>611699</td>\n",
       "      <td>0</td>\n",
       "      <td>0</td>\n",
       "      <td>0</td>\n",
       "      <td>3</td>\n",
       "      <td>3</td>\n",
       "      <td>0</td>\n",
       "      <td>0</td>\n",
       "      <td>...</td>\n",
       "      <td>2</td>\n",
       "      <td>0</td>\n",
       "      <td>O</td>\n",
       "      <td>0</td>\n",
       "      <td>0</td>\n",
       "      <td>0</td>\n",
       "      <td>3</td>\n",
       "      <td>3</td>\n",
       "      <td>0</td>\n",
       "      <td>0</td>\n",
       "    </tr>\n",
       "    <tr>\n",
       "      <td>7</td>\n",
       "      <td>48</td>\n",
       "      <td>187</td>\n",
       "      <td>611699</td>\n",
       "      <td>0</td>\n",
       "      <td>0</td>\n",
       "      <td>0</td>\n",
       "      <td>3</td>\n",
       "      <td>3</td>\n",
       "      <td>0</td>\n",
       "      <td>0</td>\n",
       "      <td>...</td>\n",
       "      <td>1</td>\n",
       "      <td>0</td>\n",
       "      <td>-</td>\n",
       "      <td>51899</td>\n",
       "      <td>313039</td>\n",
       "      <td>1359848</td>\n",
       "      <td>6735</td>\n",
       "      <td>6686</td>\n",
       "      <td>49</td>\n",
       "      <td>0</td>\n",
       "    </tr>\n",
       "    <tr>\n",
       "      <td>8</td>\n",
       "      <td>48</td>\n",
       "      <td>187</td>\n",
       "      <td>611699</td>\n",
       "      <td>0</td>\n",
       "      <td>0</td>\n",
       "      <td>0</td>\n",
       "      <td>3</td>\n",
       "      <td>3</td>\n",
       "      <td>0</td>\n",
       "      <td>0</td>\n",
       "      <td>...</td>\n",
       "      <td>1</td>\n",
       "      <td>0</td>\n",
       "      <td>C</td>\n",
       "      <td>13053</td>\n",
       "      <td>94122</td>\n",
       "      <td>382036</td>\n",
       "      <td>772</td>\n",
       "      <td>744</td>\n",
       "      <td>28</td>\n",
       "      <td>0</td>\n",
       "    </tr>\n",
       "    <tr>\n",
       "      <td>9</td>\n",
       "      <td>48</td>\n",
       "      <td>187</td>\n",
       "      <td>611699</td>\n",
       "      <td>0</td>\n",
       "      <td>0</td>\n",
       "      <td>0</td>\n",
       "      <td>3</td>\n",
       "      <td>3</td>\n",
       "      <td>0</td>\n",
       "      <td>0</td>\n",
       "      <td>...</td>\n",
       "      <td>1</td>\n",
       "      <td>0</td>\n",
       "      <td>Z</td>\n",
       "      <td>13820</td>\n",
       "      <td>81474</td>\n",
       "      <td>370113</td>\n",
       "      <td>2726</td>\n",
       "      <td>2719</td>\n",
       "      <td>7</td>\n",
       "      <td>0</td>\n",
       "    </tr>\n",
       "  </tbody>\n",
       "</table>\n",
       "<p>10 rows × 26 columns</p>\n",
       "</div>"
      ],
      "text/plain": [
       "   fipstate  COUNTY_fipscty   naics  COUNTY_emp  COUNTY_qp1  COUNTY_ap  \\\n",
       "0        48             187  611699           0           0          0   \n",
       "1        48             187  611699           0           0          0   \n",
       "2        48             187  611699           0           0          0   \n",
       "3        48             187  611699           0           0          0   \n",
       "4        48             187  611699           0           0          0   \n",
       "5        48             187  611699           0           0          0   \n",
       "6        48             187  611699           0           0          0   \n",
       "7        48             187  611699           0           0          0   \n",
       "8        48             187  611699           0           0          0   \n",
       "9        48             187  611699           0           0          0   \n",
       "\n",
       "   COUNTY_est  COUNTY_sz_small  COUNTY_sz_med  COUNTY_sz_lrg  ...  \\\n",
       "0           3                3              0              0  ...   \n",
       "1           3                3              0              0  ...   \n",
       "2           3                3              0              0  ...   \n",
       "3           3                3              0              0  ...   \n",
       "4           3                3              0              0  ...   \n",
       "5           3                3              0              0  ...   \n",
       "6           3                3              0              0  ...   \n",
       "7           3                3              0              0  ...   \n",
       "8           3                3              0              0  ...   \n",
       "9           3                3              0              0  ...   \n",
       "\n",
       "  state_sz_med  state_sz_lrg  US_lfo  US_emp  US_qp1    US_ap  US_est  \\\n",
       "0            2             0       -   51899  313039  1359848    6735   \n",
       "1            2             0       C   13053   94122   382036     772   \n",
       "2            2             0       Z   13820   81474   370113    2726   \n",
       "3            2             0       S    4089   11271    52412     849   \n",
       "4            2             0       P    7045   29269   133911     896   \n",
       "5            2             0       N   13880   96894   421347    1489   \n",
       "6            2             0       O       0       0        0       3   \n",
       "7            1             0       -   51899  313039  1359848    6735   \n",
       "8            1             0       C   13053   94122   382036     772   \n",
       "9            1             0       Z   13820   81474   370113    2726   \n",
       "\n",
       "   US_sz_small US_sz_med  US_sz_lrg  \n",
       "0         6686        49          0  \n",
       "1          744        28          0  \n",
       "2         2719         7          0  \n",
       "3          847         2          0  \n",
       "4          896         0          0  \n",
       "5         1477        12          0  \n",
       "6            3         0          0  \n",
       "7         6686        49          0  \n",
       "8          744        28          0  \n",
       "9         2719         7          0  \n",
       "\n",
       "[10 rows x 26 columns]"
      ]
     },
     "execution_count": 48,
     "metadata": {},
     "output_type": "execute_result"
    }
   ],
   "source": [
    "S_US.head(10)"
   ]
  },
  {
   "cell_type": "code",
   "execution_count": 49,
   "metadata": {},
   "outputs": [
    {
     "data": {
      "text/plain": [
       "(874041, 26)"
      ]
     },
     "execution_count": 49,
     "metadata": {},
     "output_type": "execute_result"
    }
   ],
   "source": [
    "S_US.shape"
   ]
  },
  {
   "cell_type": "code",
   "execution_count": 50,
   "metadata": {},
   "outputs": [
    {
     "data": {
      "text/plain": [
       "938.88231424391"
      ]
     },
     "execution_count": 50,
     "metadata": {},
     "output_type": "execute_result"
    }
   ],
   "source": [
    "np.sqrt(881500)"
   ]
  },
  {
   "cell_type": "code",
   "execution_count": 51,
   "metadata": {},
   "outputs": [
    {
     "data": {
      "text/plain": [
       "0.1065096215818389"
      ]
     },
     "execution_count": 51,
     "metadata": {},
     "output_type": "execute_result"
    }
   ],
   "source": [
    "100*(1/938.88231424391)"
   ]
  },
  {
   "cell_type": "code",
   "execution_count": 52,
   "metadata": {},
   "outputs": [],
   "source": [
    "\n",
    "Texas_data= S_US\n"
   ]
  },
  {
   "cell_type": "code",
   "execution_count": 53,
   "metadata": {},
   "outputs": [
    {
     "data": {
      "text/plain": [
       "0    -\n",
       "1    C\n",
       "2    Z\n",
       "3    S\n",
       "4    P\n",
       "Name: US_lfo, dtype: object"
      ]
     },
     "execution_count": 53,
     "metadata": {},
     "output_type": "execute_result"
    }
   ],
   "source": [
    "Texas_data['US_lfo'].head()"
   ]
  },
  {
   "cell_type": "code",
   "execution_count": 54,
   "metadata": {},
   "outputs": [
    {
     "data": {
      "text/plain": [
       "0    -\n",
       "1    -\n",
       "2    -\n",
       "3    -\n",
       "4    -\n",
       "Name: state_lfo, dtype: object"
      ]
     },
     "execution_count": 54,
     "metadata": {},
     "output_type": "execute_result"
    }
   ],
   "source": [
    "Texas_data['state_lfo'].head()"
   ]
  },
  {
   "cell_type": "markdown",
   "metadata": {},
   "source": [
    "COUNTY_Avg_AP_I annual Payroll of an industry = Annual Payroll for the industry / No. of establishments in\n",
    "the industry"
   ]
  },
  {
   "cell_type": "code",
   "execution_count": 55,
   "metadata": {},
   "outputs": [],
   "source": [
    "Texas_data['COUNTY_Avg_AP_I'] = Texas_data['COUNTY_ap'] / Texas_data['COUNTY_est']"
   ]
  },
  {
   "cell_type": "code",
   "execution_count": 56,
   "metadata": {},
   "outputs": [],
   "source": [
    "Texas_data['State_Avg_AP_I'] = Texas_data['state_ap'] / Texas_data['state_est']"
   ]
  },
  {
   "cell_type": "code",
   "execution_count": 57,
   "metadata": {},
   "outputs": [],
   "source": [
    "Texas_data['US_Avg_AP_I'] = Texas_data['US_ap'] / Texas_data['US_est']"
   ]
  },
  {
   "cell_type": "code",
   "execution_count": 58,
   "metadata": {},
   "outputs": [],
   "source": [
    "First_review_data = Texas_data.sample(6254).reset_index(drop = True)"
   ]
  },
  {
   "cell_type": "code",
   "execution_count": 59,
   "metadata": {},
   "outputs": [],
   "source": [
    "x=pd.DataFrame(First_review_data['naics'])"
   ]
  },
  {
   "cell_type": "code",
   "execution_count": 60,
   "metadata": {},
   "outputs": [
    {
     "data": {
      "text/plain": [
       "count    874041.000000\n",
       "mean        308.736812\n",
       "std        1992.786627\n",
       "min           0.000000\n",
       "25%           0.000000\n",
       "50%           0.000000\n",
       "75%         219.250000\n",
       "max      114060.333333\n",
       "Name: COUNTY_Avg_AP_I, dtype: float64"
      ]
     },
     "execution_count": 60,
     "metadata": {},
     "output_type": "execute_result"
    }
   ],
   "source": [
    "Texas_data['COUNTY_Avg_AP_I'].describe()"
   ]
  },
  {
   "cell_type": "code",
   "execution_count": 61,
   "metadata": {},
   "outputs": [
    {
     "data": {
      "text/plain": [
       "<matplotlib.axes._subplots.AxesSubplot at 0x124e10110>"
      ]
     },
     "execution_count": 61,
     "metadata": {},
     "output_type": "execute_result"
    }
   ],
   "source": [
    "import seaborn as sns\n",
    "sns.boxplot(x=First_review_data.COUNTY_Avg_AP_I)"
   ]
  },
  {
   "cell_type": "code",
   "execution_count": 62,
   "metadata": {},
   "outputs": [],
   "source": [
    "#First_review_data_in = First_review_data[First_review_data['naics']==62]\n",
    "First_review_data= First_review_data.loc[First_review_data.naics.astype(str).str.startswith('62')]"
   ]
  },
  {
   "cell_type": "code",
   "execution_count": 63,
   "metadata": {},
   "outputs": [],
   "source": [
    "categorical = First_review_data.select_dtypes(include=['object']) "
   ]
  },
  {
   "cell_type": "code",
   "execution_count": 64,
   "metadata": {},
   "outputs": [
    {
     "data": {
      "text/plain": [
       "Index(['naics', 'state_lfo', 'US_lfo'], dtype='object')"
      ]
     },
     "execution_count": 64,
     "metadata": {},
     "output_type": "execute_result"
    }
   ],
   "source": [
    "categorical.columns"
   ]
  },
  {
   "cell_type": "code",
   "execution_count": 65,
   "metadata": {},
   "outputs": [],
   "source": [
    "naics=categorical['naics']\n",
    "\n"
   ]
  },
  {
   "cell_type": "code",
   "execution_count": 66,
   "metadata": {},
   "outputs": [],
   "source": [
    "categorical = categorical.drop(columns=['naics'])"
   ]
  },
  {
   "cell_type": "code",
   "execution_count": 67,
   "metadata": {},
   "outputs": [],
   "source": [
    "numerical = First_review_data.drop(columns=['naics', 'state_lfo', 'US_lfo','COUNTY_fipscty','fipstate'])"
   ]
  },
  {
   "cell_type": "code",
   "execution_count": 68,
   "metadata": {},
   "outputs": [
    {
     "data": {
      "text/html": [
       "<div>\n",
       "<style scoped>\n",
       "    .dataframe tbody tr th:only-of-type {\n",
       "        vertical-align: middle;\n",
       "    }\n",
       "\n",
       "    .dataframe tbody tr th {\n",
       "        vertical-align: top;\n",
       "    }\n",
       "\n",
       "    .dataframe thead th {\n",
       "        text-align: right;\n",
       "    }\n",
       "</style>\n",
       "<table border=\"1\" class=\"dataframe\">\n",
       "  <thead>\n",
       "    <tr style=\"text-align: right;\">\n",
       "      <th></th>\n",
       "      <th>COUNTY_emp</th>\n",
       "      <th>COUNTY_qp1</th>\n",
       "      <th>COUNTY_ap</th>\n",
       "      <th>COUNTY_est</th>\n",
       "      <th>COUNTY_sz_small</th>\n",
       "      <th>COUNTY_sz_med</th>\n",
       "      <th>COUNTY_sz_lrg</th>\n",
       "      <th>state_emp</th>\n",
       "      <th>state_qp1</th>\n",
       "      <th>state_ap</th>\n",
       "      <th>...</th>\n",
       "      <th>US_emp</th>\n",
       "      <th>US_qp1</th>\n",
       "      <th>US_ap</th>\n",
       "      <th>US_est</th>\n",
       "      <th>US_sz_small</th>\n",
       "      <th>US_sz_med</th>\n",
       "      <th>US_sz_lrg</th>\n",
       "      <th>COUNTY_Avg_AP_I</th>\n",
       "      <th>State_Avg_AP_I</th>\n",
       "      <th>US_Avg_AP_I</th>\n",
       "    </tr>\n",
       "  </thead>\n",
       "  <tbody>\n",
       "    <tr>\n",
       "      <td>11</td>\n",
       "      <td>95</td>\n",
       "      <td>1818</td>\n",
       "      <td>8315</td>\n",
       "      <td>4</td>\n",
       "      <td>4</td>\n",
       "      <td>0</td>\n",
       "      <td>0</td>\n",
       "      <td>1765</td>\n",
       "      <td>26721</td>\n",
       "      <td>113989</td>\n",
       "      <td>...</td>\n",
       "      <td>147571</td>\n",
       "      <td>1802567</td>\n",
       "      <td>7913619</td>\n",
       "      <td>6847</td>\n",
       "      <td>6715</td>\n",
       "      <td>129</td>\n",
       "      <td>3</td>\n",
       "      <td>2078.750000</td>\n",
       "      <td>678.505952</td>\n",
       "      <td>1155.779027</td>\n",
       "    </tr>\n",
       "    <tr>\n",
       "      <td>13</td>\n",
       "      <td>0</td>\n",
       "      <td>0</td>\n",
       "      <td>0</td>\n",
       "      <td>3</td>\n",
       "      <td>3</td>\n",
       "      <td>0</td>\n",
       "      <td>0</td>\n",
       "      <td>311</td>\n",
       "      <td>3861</td>\n",
       "      <td>15636</td>\n",
       "      <td>...</td>\n",
       "      <td>557</td>\n",
       "      <td>5448</td>\n",
       "      <td>23078</td>\n",
       "      <td>80</td>\n",
       "      <td>80</td>\n",
       "      <td>0</td>\n",
       "      <td>0</td>\n",
       "      <td>0.000000</td>\n",
       "      <td>625.440000</td>\n",
       "      <td>288.475000</td>\n",
       "    </tr>\n",
       "    <tr>\n",
       "      <td>17</td>\n",
       "      <td>0</td>\n",
       "      <td>0</td>\n",
       "      <td>0</td>\n",
       "      <td>1</td>\n",
       "      <td>1</td>\n",
       "      <td>0</td>\n",
       "      <td>0</td>\n",
       "      <td>1089</td>\n",
       "      <td>7729</td>\n",
       "      <td>33441</td>\n",
       "      <td>...</td>\n",
       "      <td>127883</td>\n",
       "      <td>1142630</td>\n",
       "      <td>4987657</td>\n",
       "      <td>21929</td>\n",
       "      <td>21918</td>\n",
       "      <td>11</td>\n",
       "      <td>0</td>\n",
       "      <td>0.000000</td>\n",
       "      <td>278.675000</td>\n",
       "      <td>227.445711</td>\n",
       "    </tr>\n",
       "    <tr>\n",
       "      <td>38</td>\n",
       "      <td>32</td>\n",
       "      <td>197</td>\n",
       "      <td>807</td>\n",
       "      <td>6</td>\n",
       "      <td>6</td>\n",
       "      <td>0</td>\n",
       "      <td>0</td>\n",
       "      <td>311</td>\n",
       "      <td>3861</td>\n",
       "      <td>15636</td>\n",
       "      <td>...</td>\n",
       "      <td>142459</td>\n",
       "      <td>1098229</td>\n",
       "      <td>4554700</td>\n",
       "      <td>29788</td>\n",
       "      <td>29787</td>\n",
       "      <td>1</td>\n",
       "      <td>0</td>\n",
       "      <td>134.500000</td>\n",
       "      <td>625.440000</td>\n",
       "      <td>152.903854</td>\n",
       "    </tr>\n",
       "    <tr>\n",
       "      <td>76</td>\n",
       "      <td>710</td>\n",
       "      <td>3493</td>\n",
       "      <td>15245</td>\n",
       "      <td>28</td>\n",
       "      <td>26</td>\n",
       "      <td>2</td>\n",
       "      <td>0</td>\n",
       "      <td>12876</td>\n",
       "      <td>67246</td>\n",
       "      <td>296186</td>\n",
       "      <td>...</td>\n",
       "      <td>210172</td>\n",
       "      <td>1129051</td>\n",
       "      <td>4866431</td>\n",
       "      <td>5908</td>\n",
       "      <td>5524</td>\n",
       "      <td>383</td>\n",
       "      <td>1</td>\n",
       "      <td>544.464286</td>\n",
       "      <td>771.317708</td>\n",
       "      <td>823.701930</td>\n",
       "    </tr>\n",
       "  </tbody>\n",
       "</table>\n",
       "<p>5 rows × 24 columns</p>\n",
       "</div>"
      ],
      "text/plain": [
       "    COUNTY_emp  COUNTY_qp1  COUNTY_ap  COUNTY_est  COUNTY_sz_small  \\\n",
       "11          95        1818       8315           4                4   \n",
       "13           0           0          0           3                3   \n",
       "17           0           0          0           1                1   \n",
       "38          32         197        807           6                6   \n",
       "76         710        3493      15245          28               26   \n",
       "\n",
       "    COUNTY_sz_med  COUNTY_sz_lrg  state_emp  state_qp1  state_ap  ...  US_emp  \\\n",
       "11              0              0       1765      26721    113989  ...  147571   \n",
       "13              0              0        311       3861     15636  ...     557   \n",
       "17              0              0       1089       7729     33441  ...  127883   \n",
       "38              0              0        311       3861     15636  ...  142459   \n",
       "76              2              0      12876      67246    296186  ...  210172   \n",
       "\n",
       "     US_qp1    US_ap  US_est  US_sz_small  US_sz_med  US_sz_lrg  \\\n",
       "11  1802567  7913619    6847         6715        129          3   \n",
       "13     5448    23078      80           80          0          0   \n",
       "17  1142630  4987657   21929        21918         11          0   \n",
       "38  1098229  4554700   29788        29787          1          0   \n",
       "76  1129051  4866431    5908         5524        383          1   \n",
       "\n",
       "    COUNTY_Avg_AP_I  State_Avg_AP_I  US_Avg_AP_I  \n",
       "11      2078.750000      678.505952  1155.779027  \n",
       "13         0.000000      625.440000   288.475000  \n",
       "17         0.000000      278.675000   227.445711  \n",
       "38       134.500000      625.440000   152.903854  \n",
       "76       544.464286      771.317708   823.701930  \n",
       "\n",
       "[5 rows x 24 columns]"
      ]
     },
     "execution_count": 68,
     "metadata": {},
     "output_type": "execute_result"
    }
   ],
   "source": [
    "numerical.head()"
   ]
  },
  {
   "cell_type": "code",
   "execution_count": 69,
   "metadata": {},
   "outputs": [],
   "source": [
    "from sklearn import preprocessing "
   ]
  },
  {
   "cell_type": "code",
   "execution_count": 70,
   "metadata": {},
   "outputs": [],
   "source": [
    "#numerical = First_review_data.drop(columns=['naics', 'state_lfo', 'US_lfo','fipstate', 'COUNTY_fipscty'])\n",
    "numerical = First_review_data.drop(columns=['naics','fipstate','COUNTY_fipscty' ,'state_lfo', 'US_lfo','COUNTY_Avg_AP_I','State_Avg_AP_I','US_Avg_AP_I'])"
   ]
  },
  {
   "cell_type": "code",
   "execution_count": 71,
   "metadata": {},
   "outputs": [
    {
     "data": {
      "text/plain": [
       "(559, 29)"
      ]
     },
     "execution_count": 71,
     "metadata": {},
     "output_type": "execute_result"
    }
   ],
   "source": [
    "First_review_data.shape"
   ]
  },
  {
   "cell_type": "code",
   "execution_count": 72,
   "metadata": {},
   "outputs": [],
   "source": [
    "target=First_review_data[['COUNTY_Avg_AP_I']]"
   ]
  },
  {
   "cell_type": "code",
   "execution_count": 73,
   "metadata": {},
   "outputs": [
    {
     "data": {
      "text/plain": [
       "<matplotlib.axes._subplots.AxesSubplot at 0x126669d50>"
      ]
     },
     "execution_count": 73,
     "metadata": {},
     "output_type": "execute_result"
    },
    {
     "data": {
      "image/png": "[encoded data removed]",
      "text/plain": [
       "<Figure size 432x288 with 1 Axes>"
      ]
     },
     "metadata": {
      "needs_background": "light"
     },
     "output_type": "display_data"
    }
   ],
   "source": [
    "import seaborn as sns\n",
    "sns.boxplot(x=First_review_data.COUNTY_Avg_AP_I)"
   ]
  },
  {
   "cell_type": "code",
   "execution_count": 74,
   "metadata": {},
   "outputs": [],
   "source": [
    "targets= First_review_data[['COUNTY_Avg_AP_I','State_Avg_AP_I','US_Avg_AP_I']]"
   ]
  },
  {
   "cell_type": "code",
   "execution_count": 75,
   "metadata": {},
   "outputs": [
    {
     "data": {
      "text/html": [
       "<div>\n",
       "<style scoped>\n",
       "    .dataframe tbody tr th:only-of-type {\n",
       "        vertical-align: middle;\n",
       "    }\n",
       "\n",
       "    .dataframe tbody tr th {\n",
       "        vertical-align: top;\n",
       "    }\n",
       "\n",
       "    .dataframe thead th {\n",
       "        text-align: right;\n",
       "    }\n",
       "</style>\n",
       "<table border=\"1\" class=\"dataframe\">\n",
       "  <thead>\n",
       "    <tr style=\"text-align: right;\">\n",
       "      <th></th>\n",
       "      <th>COUNTY_Avg_AP_I</th>\n",
       "      <th>State_Avg_AP_I</th>\n",
       "      <th>US_Avg_AP_I</th>\n",
       "    </tr>\n",
       "  </thead>\n",
       "  <tbody>\n",
       "    <tr>\n",
       "      <td>11</td>\n",
       "      <td>2078.750000</td>\n",
       "      <td>678.505952</td>\n",
       "      <td>1155.779027</td>\n",
       "    </tr>\n",
       "    <tr>\n",
       "      <td>13</td>\n",
       "      <td>0.000000</td>\n",
       "      <td>625.440000</td>\n",
       "      <td>288.475000</td>\n",
       "    </tr>\n",
       "    <tr>\n",
       "      <td>17</td>\n",
       "      <td>0.000000</td>\n",
       "      <td>278.675000</td>\n",
       "      <td>227.445711</td>\n",
       "    </tr>\n",
       "    <tr>\n",
       "      <td>38</td>\n",
       "      <td>134.500000</td>\n",
       "      <td>625.440000</td>\n",
       "      <td>152.903854</td>\n",
       "    </tr>\n",
       "    <tr>\n",
       "      <td>76</td>\n",
       "      <td>544.464286</td>\n",
       "      <td>771.317708</td>\n",
       "      <td>823.701930</td>\n",
       "    </tr>\n",
       "  </tbody>\n",
       "</table>\n",
       "</div>"
      ],
      "text/plain": [
       "    COUNTY_Avg_AP_I  State_Avg_AP_I  US_Avg_AP_I\n",
       "11      2078.750000      678.505952  1155.779027\n",
       "13         0.000000      625.440000   288.475000\n",
       "17         0.000000      278.675000   227.445711\n",
       "38       134.500000      625.440000   152.903854\n",
       "76       544.464286      771.317708   823.701930"
      ]
     },
     "execution_count": 75,
     "metadata": {},
     "output_type": "execute_result"
    }
   ],
   "source": [
    "targets.head()"
   ]
  },
  {
   "cell_type": "code",
   "execution_count": 76,
   "metadata": {},
   "outputs": [
    {
     "data": {
      "text/plain": [
       "Index(['COUNTY_emp', 'COUNTY_qp1', 'COUNTY_ap', 'COUNTY_est',\n",
       "       'COUNTY_sz_small', 'COUNTY_sz_med', 'COUNTY_sz_lrg', 'state_emp',\n",
       "       'state_qp1', 'state_ap', 'state_est', 'state_sz_small', 'state_sz_med',\n",
       "       'state_sz_lrg', 'US_emp', 'US_qp1', 'US_ap', 'US_est', 'US_sz_small',\n",
       "       'US_sz_med', 'US_sz_lrg'],\n",
       "      dtype='object')"
      ]
     },
     "execution_count": 76,
     "metadata": {},
     "output_type": "execute_result"
    }
   ],
   "source": [
    "numerical.columns"
   ]
  },
  {
   "cell_type": "code",
   "execution_count": 77,
   "metadata": {},
   "outputs": [],
   "source": [
    "standardized_num = preprocessing.scale(numerical)"
   ]
  },
  {
   "cell_type": "code",
   "execution_count": 78,
   "metadata": {},
   "outputs": [],
   "source": [
    "standardized_num = pd.DataFrame(standardized_num)"
   ]
  },
  {
   "cell_type": "code",
   "execution_count": 79,
   "metadata": {},
   "outputs": [
    {
     "data": {
      "text/html": [
       "<div>\n",
       "<style scoped>\n",
       "    .dataframe tbody tr th:only-of-type {\n",
       "        vertical-align: middle;\n",
       "    }\n",
       "\n",
       "    .dataframe tbody tr th {\n",
       "        vertical-align: top;\n",
       "    }\n",
       "\n",
       "    .dataframe thead th {\n",
       "        text-align: right;\n",
       "    }\n",
       "</style>\n",
       "<table border=\"1\" class=\"dataframe\">\n",
       "  <thead>\n",
       "    <tr style=\"text-align: right;\">\n",
       "      <th></th>\n",
       "      <th>0</th>\n",
       "      <th>1</th>\n",
       "      <th>2</th>\n",
       "      <th>3</th>\n",
       "      <th>4</th>\n",
       "      <th>5</th>\n",
       "      <th>6</th>\n",
       "      <th>7</th>\n",
       "      <th>8</th>\n",
       "      <th>9</th>\n",
       "      <th>...</th>\n",
       "      <th>11</th>\n",
       "      <th>12</th>\n",
       "      <th>13</th>\n",
       "      <th>14</th>\n",
       "      <th>15</th>\n",
       "      <th>16</th>\n",
       "      <th>17</th>\n",
       "      <th>18</th>\n",
       "      <th>19</th>\n",
       "      <th>20</th>\n",
       "    </tr>\n",
       "  </thead>\n",
       "  <tbody>\n",
       "    <tr>\n",
       "      <td>0</td>\n",
       "      <td>-0.112913</td>\n",
       "      <td>-0.073869</td>\n",
       "      <td>-0.072378</td>\n",
       "      <td>-0.186508</td>\n",
       "      <td>-0.182583</td>\n",
       "      <td>-0.208177</td>\n",
       "      <td>-0.068197</td>\n",
       "      <td>-0.429247</td>\n",
       "      <td>-0.370593</td>\n",
       "      <td>-0.368762</td>\n",
       "      <td>...</td>\n",
       "      <td>-0.307806</td>\n",
       "      <td>-0.413296</td>\n",
       "      <td>-0.281891</td>\n",
       "      <td>-0.273433</td>\n",
       "      <td>-0.215133</td>\n",
       "      <td>-0.212495</td>\n",
       "      <td>-0.268779</td>\n",
       "      <td>-0.264633</td>\n",
       "      <td>-0.316036</td>\n",
       "      <td>-0.189199</td>\n",
       "    </tr>\n",
       "    <tr>\n",
       "      <td>1</td>\n",
       "      <td>-0.133627</td>\n",
       "      <td>-0.099072</td>\n",
       "      <td>-0.099195</td>\n",
       "      <td>-0.195568</td>\n",
       "      <td>-0.191852</td>\n",
       "      <td>-0.208177</td>\n",
       "      <td>-0.068197</td>\n",
       "      <td>-0.449046</td>\n",
       "      <td>-0.397720</td>\n",
       "      <td>-0.395589</td>\n",
       "      <td>...</td>\n",
       "      <td>-0.341080</td>\n",
       "      <td>-0.413296</td>\n",
       "      <td>-0.281891</td>\n",
       "      <td>-0.438846</td>\n",
       "      <td>-0.368173</td>\n",
       "      <td>-0.367096</td>\n",
       "      <td>-0.386327</td>\n",
       "      <td>-0.381312</td>\n",
       "      <td>-0.419788</td>\n",
       "      <td>-0.207136</td>\n",
       "    </tr>\n",
       "    <tr>\n",
       "      <td>2</td>\n",
       "      <td>-0.133627</td>\n",
       "      <td>-0.099072</td>\n",
       "      <td>-0.099195</td>\n",
       "      <td>-0.213689</td>\n",
       "      <td>-0.210391</td>\n",
       "      <td>-0.208177</td>\n",
       "      <td>-0.068197</td>\n",
       "      <td>-0.438452</td>\n",
       "      <td>-0.393130</td>\n",
       "      <td>-0.390732</td>\n",
       "      <td>...</td>\n",
       "      <td>-0.318975</td>\n",
       "      <td>-0.413296</td>\n",
       "      <td>-0.281891</td>\n",
       "      <td>-0.295585</td>\n",
       "      <td>-0.271332</td>\n",
       "      <td>-0.269824</td>\n",
       "      <td>-0.006792</td>\n",
       "      <td>0.002719</td>\n",
       "      <td>-0.410941</td>\n",
       "      <td>-0.207136</td>\n",
       "    </tr>\n",
       "    <tr>\n",
       "      <td>3</td>\n",
       "      <td>-0.126650</td>\n",
       "      <td>-0.096341</td>\n",
       "      <td>-0.096593</td>\n",
       "      <td>-0.168387</td>\n",
       "      <td>-0.164045</td>\n",
       "      <td>-0.208177</td>\n",
       "      <td>-0.068197</td>\n",
       "      <td>-0.449046</td>\n",
       "      <td>-0.397720</td>\n",
       "      <td>-0.395589</td>\n",
       "      <td>...</td>\n",
       "      <td>-0.341080</td>\n",
       "      <td>-0.413296</td>\n",
       "      <td>-0.281891</td>\n",
       "      <td>-0.279185</td>\n",
       "      <td>-0.275113</td>\n",
       "      <td>-0.278307</td>\n",
       "      <td>0.129726</td>\n",
       "      <td>0.141099</td>\n",
       "      <td>-0.418983</td>\n",
       "      <td>-0.207136</td>\n",
       "    </tr>\n",
       "    <tr>\n",
       "      <td>4</td>\n",
       "      <td>0.021185</td>\n",
       "      <td>-0.050649</td>\n",
       "      <td>-0.050028</td>\n",
       "      <td>0.030941</td>\n",
       "      <td>0.021341</td>\n",
       "      <td>0.299993</td>\n",
       "      <td>-0.068197</td>\n",
       "      <td>-0.277948</td>\n",
       "      <td>-0.322505</td>\n",
       "      <td>-0.319067</td>\n",
       "      <td>...</td>\n",
       "      <td>-0.262432</td>\n",
       "      <td>-0.221431</td>\n",
       "      <td>-0.281891</td>\n",
       "      <td>-0.202998</td>\n",
       "      <td>-0.272488</td>\n",
       "      <td>-0.272200</td>\n",
       "      <td>-0.285090</td>\n",
       "      <td>-0.285577</td>\n",
       "      <td>-0.111749</td>\n",
       "      <td>-0.201157</td>\n",
       "    </tr>\n",
       "  </tbody>\n",
       "</table>\n",
       "<p>5 rows × 21 columns</p>\n",
       "</div>"
      ],
      "text/plain": [
       "         0         1         2         3         4         5         6   \\\n",
       "0 -0.112913 -0.073869 -0.072378 -0.186508 -0.182583 -0.208177 -0.068197   \n",
       "1 -0.133627 -0.099072 -0.099195 -0.195568 -0.191852 -0.208177 -0.068197   \n",
       "2 -0.133627 -0.099072 -0.099195 -0.213689 -0.210391 -0.208177 -0.068197   \n",
       "3 -0.126650 -0.096341 -0.096593 -0.168387 -0.164045 -0.208177 -0.068197   \n",
       "4  0.021185 -0.050649 -0.050028  0.030941  0.021341  0.299993 -0.068197   \n",
       "\n",
       "         7         8         9   ...        11        12        13        14  \\\n",
       "0 -0.429247 -0.370593 -0.368762  ... -0.307806 -0.413296 -0.281891 -0.273433   \n",
       "1 -0.449046 -0.397720 -0.395589  ... -0.341080 -0.413296 -0.281891 -0.438846   \n",
       "2 -0.438452 -0.393130 -0.390732  ... -0.318975 -0.413296 -0.281891 -0.295585   \n",
       "3 -0.449046 -0.397720 -0.395589  ... -0.341080 -0.413296 -0.281891 -0.279185   \n",
       "4 -0.277948 -0.322505 -0.319067  ... -0.262432 -0.221431 -0.281891 -0.202998   \n",
       "\n",
       "         15        16        17        18        19        20  \n",
       "0 -0.215133 -0.212495 -0.268779 -0.264633 -0.316036 -0.189199  \n",
       "1 -0.368173 -0.367096 -0.386327 -0.381312 -0.419788 -0.207136  \n",
       "2 -0.271332 -0.269824 -0.006792  0.002719 -0.410941 -0.207136  \n",
       "3 -0.275113 -0.278307  0.129726  0.141099 -0.418983 -0.207136  \n",
       "4 -0.272488 -0.272200 -0.285090 -0.285577 -0.111749 -0.201157  \n",
       "\n",
       "[5 rows x 21 columns]"
      ]
     },
     "execution_count": 79,
     "metadata": {},
     "output_type": "execute_result"
    }
   ],
   "source": [
    "standardized_num.head()"
   ]
  },
  {
   "cell_type": "code",
   "execution_count": 80,
   "metadata": {},
   "outputs": [],
   "source": [
    "standardized_num.columns =[ 'COUNTY_emp', 'COUNTY_qp1', 'COUNTY_ap',\n",
    "       'COUNTY_est', 'COUNTY_sz_small', 'COUNTY_sz_med', 'COUNTY_sz_lrg',\n",
    "       'state_emp', 'state_qp1', 'state_ap', 'state_est', 'state_sz_small',\n",
    "       'state_sz_med', 'state_sz_lrg', 'US_emp', 'US_qp1', 'US_ap', 'US_est',\n",
    "       'US_sz_small', 'US_sz_med', 'US_sz_lrg']"
   ]
  },
  {
   "cell_type": "code",
   "execution_count": 81,
   "metadata": {},
   "outputs": [
    {
     "data": {
      "text/plain": [
       "11    259\n",
       "13     17\n",
       "17    445\n",
       "38     89\n",
       "76    141\n",
       "Name: COUNTY_fipscty, dtype: int64"
      ]
     },
     "execution_count": 81,
     "metadata": {},
     "output_type": "execute_result"
    }
   ],
   "source": [
    "First_review_data['COUNTY_fipscty'].head()"
   ]
  },
  {
   "cell_type": "code",
   "execution_count": 82,
   "metadata": {},
   "outputs": [],
   "source": [
    "CAT_DATA = pd.get_dummies(categorical)"
   ]
  },
  {
   "cell_type": "code",
   "execution_count": 83,
   "metadata": {},
   "outputs": [
    {
     "data": {
      "text/html": [
       "<div>\n",
       "<style scoped>\n",
       "    .dataframe tbody tr th:only-of-type {\n",
       "        vertical-align: middle;\n",
       "    }\n",
       "\n",
       "    .dataframe tbody tr th {\n",
       "        vertical-align: top;\n",
       "    }\n",
       "\n",
       "    .dataframe thead th {\n",
       "        text-align: right;\n",
       "    }\n",
       "</style>\n",
       "<table border=\"1\" class=\"dataframe\">\n",
       "  <thead>\n",
       "    <tr style=\"text-align: right;\">\n",
       "      <th></th>\n",
       "      <th>state_lfo_-</th>\n",
       "      <th>state_lfo_C</th>\n",
       "      <th>state_lfo_G</th>\n",
       "      <th>state_lfo_N</th>\n",
       "      <th>state_lfo_O</th>\n",
       "      <th>state_lfo_P</th>\n",
       "      <th>state_lfo_S</th>\n",
       "      <th>state_lfo_Z</th>\n",
       "      <th>US_lfo_-</th>\n",
       "      <th>US_lfo_C</th>\n",
       "      <th>US_lfo_G</th>\n",
       "      <th>US_lfo_N</th>\n",
       "      <th>US_lfo_O</th>\n",
       "      <th>US_lfo_P</th>\n",
       "      <th>US_lfo_S</th>\n",
       "      <th>US_lfo_Z</th>\n",
       "    </tr>\n",
       "  </thead>\n",
       "  <tbody>\n",
       "    <tr>\n",
       "      <td>11</td>\n",
       "      <td>0</td>\n",
       "      <td>0</td>\n",
       "      <td>0</td>\n",
       "      <td>0</td>\n",
       "      <td>0</td>\n",
       "      <td>0</td>\n",
       "      <td>0</td>\n",
       "      <td>1</td>\n",
       "      <td>1</td>\n",
       "      <td>0</td>\n",
       "      <td>0</td>\n",
       "      <td>0</td>\n",
       "      <td>0</td>\n",
       "      <td>0</td>\n",
       "      <td>0</td>\n",
       "      <td>0</td>\n",
       "    </tr>\n",
       "    <tr>\n",
       "      <td>13</td>\n",
       "      <td>0</td>\n",
       "      <td>0</td>\n",
       "      <td>0</td>\n",
       "      <td>1</td>\n",
       "      <td>0</td>\n",
       "      <td>0</td>\n",
       "      <td>0</td>\n",
       "      <td>0</td>\n",
       "      <td>0</td>\n",
       "      <td>0</td>\n",
       "      <td>0</td>\n",
       "      <td>0</td>\n",
       "      <td>1</td>\n",
       "      <td>0</td>\n",
       "      <td>0</td>\n",
       "      <td>0</td>\n",
       "    </tr>\n",
       "    <tr>\n",
       "      <td>17</td>\n",
       "      <td>0</td>\n",
       "      <td>0</td>\n",
       "      <td>0</td>\n",
       "      <td>0</td>\n",
       "      <td>0</td>\n",
       "      <td>1</td>\n",
       "      <td>0</td>\n",
       "      <td>0</td>\n",
       "      <td>1</td>\n",
       "      <td>0</td>\n",
       "      <td>0</td>\n",
       "      <td>0</td>\n",
       "      <td>0</td>\n",
       "      <td>0</td>\n",
       "      <td>0</td>\n",
       "      <td>0</td>\n",
       "    </tr>\n",
       "    <tr>\n",
       "      <td>38</td>\n",
       "      <td>0</td>\n",
       "      <td>0</td>\n",
       "      <td>0</td>\n",
       "      <td>1</td>\n",
       "      <td>0</td>\n",
       "      <td>0</td>\n",
       "      <td>0</td>\n",
       "      <td>0</td>\n",
       "      <td>0</td>\n",
       "      <td>0</td>\n",
       "      <td>0</td>\n",
       "      <td>0</td>\n",
       "      <td>0</td>\n",
       "      <td>0</td>\n",
       "      <td>1</td>\n",
       "      <td>0</td>\n",
       "    </tr>\n",
       "    <tr>\n",
       "      <td>76</td>\n",
       "      <td>0</td>\n",
       "      <td>0</td>\n",
       "      <td>0</td>\n",
       "      <td>0</td>\n",
       "      <td>0</td>\n",
       "      <td>1</td>\n",
       "      <td>0</td>\n",
       "      <td>0</td>\n",
       "      <td>0</td>\n",
       "      <td>0</td>\n",
       "      <td>0</td>\n",
       "      <td>0</td>\n",
       "      <td>0</td>\n",
       "      <td>1</td>\n",
       "      <td>0</td>\n",
       "      <td>0</td>\n",
       "    </tr>\n",
       "  </tbody>\n",
       "</table>\n",
       "</div>"
      ],
      "text/plain": [
       "    state_lfo_-  state_lfo_C  state_lfo_G  state_lfo_N  state_lfo_O  \\\n",
       "11            0            0            0            0            0   \n",
       "13            0            0            0            1            0   \n",
       "17            0            0            0            0            0   \n",
       "38            0            0            0            1            0   \n",
       "76            0            0            0            0            0   \n",
       "\n",
       "    state_lfo_P  state_lfo_S  state_lfo_Z  US_lfo_-  US_lfo_C  US_lfo_G  \\\n",
       "11            0            0            1         1         0         0   \n",
       "13            0            0            0         0         0         0   \n",
       "17            1            0            0         1         0         0   \n",
       "38            0            0            0         0         0         0   \n",
       "76            1            0            0         0         0         0   \n",
       "\n",
       "    US_lfo_N  US_lfo_O  US_lfo_P  US_lfo_S  US_lfo_Z  \n",
       "11         0         0         0         0         0  \n",
       "13         0         1         0         0         0  \n",
       "17         0         0         0         0         0  \n",
       "38         0         0         0         1         0  \n",
       "76         0         0         1         0         0  "
      ]
     },
     "execution_count": 83,
     "metadata": {},
     "output_type": "execute_result"
    }
   ],
   "source": [
    "CAT_DATA.head()"
   ]
  },
  {
   "cell_type": "code",
   "execution_count": 84,
   "metadata": {},
   "outputs": [
    {
     "data": {
      "text/html": [
       "<div>\n",
       "<style scoped>\n",
       "    .dataframe tbody tr th:only-of-type {\n",
       "        vertical-align: middle;\n",
       "    }\n",
       "\n",
       "    .dataframe tbody tr th {\n",
       "        vertical-align: top;\n",
       "    }\n",
       "\n",
       "    .dataframe thead th {\n",
       "        text-align: right;\n",
       "    }\n",
       "</style>\n",
       "<table border=\"1\" class=\"dataframe\">\n",
       "  <thead>\n",
       "    <tr style=\"text-align: right;\">\n",
       "      <th></th>\n",
       "      <th>COUNTY_emp</th>\n",
       "      <th>COUNTY_qp1</th>\n",
       "      <th>COUNTY_ap</th>\n",
       "      <th>COUNTY_est</th>\n",
       "      <th>COUNTY_sz_small</th>\n",
       "      <th>COUNTY_sz_med</th>\n",
       "      <th>COUNTY_sz_lrg</th>\n",
       "      <th>state_emp</th>\n",
       "      <th>state_qp1</th>\n",
       "      <th>state_ap</th>\n",
       "      <th>...</th>\n",
       "      <th>state_sz_small</th>\n",
       "      <th>state_sz_med</th>\n",
       "      <th>state_sz_lrg</th>\n",
       "      <th>US_emp</th>\n",
       "      <th>US_qp1</th>\n",
       "      <th>US_ap</th>\n",
       "      <th>US_est</th>\n",
       "      <th>US_sz_small</th>\n",
       "      <th>US_sz_med</th>\n",
       "      <th>US_sz_lrg</th>\n",
       "    </tr>\n",
       "  </thead>\n",
       "  <tbody>\n",
       "    <tr>\n",
       "      <td>0</td>\n",
       "      <td>-0.112913</td>\n",
       "      <td>-0.073869</td>\n",
       "      <td>-0.072378</td>\n",
       "      <td>-0.186508</td>\n",
       "      <td>-0.182583</td>\n",
       "      <td>-0.208177</td>\n",
       "      <td>-0.068197</td>\n",
       "      <td>-0.429247</td>\n",
       "      <td>-0.370593</td>\n",
       "      <td>-0.368762</td>\n",
       "      <td>...</td>\n",
       "      <td>-0.307806</td>\n",
       "      <td>-0.413296</td>\n",
       "      <td>-0.281891</td>\n",
       "      <td>-0.273433</td>\n",
       "      <td>-0.215133</td>\n",
       "      <td>-0.212495</td>\n",
       "      <td>-0.268779</td>\n",
       "      <td>-0.264633</td>\n",
       "      <td>-0.316036</td>\n",
       "      <td>-0.189199</td>\n",
       "    </tr>\n",
       "    <tr>\n",
       "      <td>1</td>\n",
       "      <td>-0.133627</td>\n",
       "      <td>-0.099072</td>\n",
       "      <td>-0.099195</td>\n",
       "      <td>-0.195568</td>\n",
       "      <td>-0.191852</td>\n",
       "      <td>-0.208177</td>\n",
       "      <td>-0.068197</td>\n",
       "      <td>-0.449046</td>\n",
       "      <td>-0.397720</td>\n",
       "      <td>-0.395589</td>\n",
       "      <td>...</td>\n",
       "      <td>-0.341080</td>\n",
       "      <td>-0.413296</td>\n",
       "      <td>-0.281891</td>\n",
       "      <td>-0.438846</td>\n",
       "      <td>-0.368173</td>\n",
       "      <td>-0.367096</td>\n",
       "      <td>-0.386327</td>\n",
       "      <td>-0.381312</td>\n",
       "      <td>-0.419788</td>\n",
       "      <td>-0.207136</td>\n",
       "    </tr>\n",
       "    <tr>\n",
       "      <td>2</td>\n",
       "      <td>-0.133627</td>\n",
       "      <td>-0.099072</td>\n",
       "      <td>-0.099195</td>\n",
       "      <td>-0.213689</td>\n",
       "      <td>-0.210391</td>\n",
       "      <td>-0.208177</td>\n",
       "      <td>-0.068197</td>\n",
       "      <td>-0.438452</td>\n",
       "      <td>-0.393130</td>\n",
       "      <td>-0.390732</td>\n",
       "      <td>...</td>\n",
       "      <td>-0.318975</td>\n",
       "      <td>-0.413296</td>\n",
       "      <td>-0.281891</td>\n",
       "      <td>-0.295585</td>\n",
       "      <td>-0.271332</td>\n",
       "      <td>-0.269824</td>\n",
       "      <td>-0.006792</td>\n",
       "      <td>0.002719</td>\n",
       "      <td>-0.410941</td>\n",
       "      <td>-0.207136</td>\n",
       "    </tr>\n",
       "    <tr>\n",
       "      <td>3</td>\n",
       "      <td>-0.126650</td>\n",
       "      <td>-0.096341</td>\n",
       "      <td>-0.096593</td>\n",
       "      <td>-0.168387</td>\n",
       "      <td>-0.164045</td>\n",
       "      <td>-0.208177</td>\n",
       "      <td>-0.068197</td>\n",
       "      <td>-0.449046</td>\n",
       "      <td>-0.397720</td>\n",
       "      <td>-0.395589</td>\n",
       "      <td>...</td>\n",
       "      <td>-0.341080</td>\n",
       "      <td>-0.413296</td>\n",
       "      <td>-0.281891</td>\n",
       "      <td>-0.279185</td>\n",
       "      <td>-0.275113</td>\n",
       "      <td>-0.278307</td>\n",
       "      <td>0.129726</td>\n",
       "      <td>0.141099</td>\n",
       "      <td>-0.418983</td>\n",
       "      <td>-0.207136</td>\n",
       "    </tr>\n",
       "    <tr>\n",
       "      <td>4</td>\n",
       "      <td>0.021185</td>\n",
       "      <td>-0.050649</td>\n",
       "      <td>-0.050028</td>\n",
       "      <td>0.030941</td>\n",
       "      <td>0.021341</td>\n",
       "      <td>0.299993</td>\n",
       "      <td>-0.068197</td>\n",
       "      <td>-0.277948</td>\n",
       "      <td>-0.322505</td>\n",
       "      <td>-0.319067</td>\n",
       "      <td>...</td>\n",
       "      <td>-0.262432</td>\n",
       "      <td>-0.221431</td>\n",
       "      <td>-0.281891</td>\n",
       "      <td>-0.202998</td>\n",
       "      <td>-0.272488</td>\n",
       "      <td>-0.272200</td>\n",
       "      <td>-0.285090</td>\n",
       "      <td>-0.285577</td>\n",
       "      <td>-0.111749</td>\n",
       "      <td>-0.201157</td>\n",
       "    </tr>\n",
       "  </tbody>\n",
       "</table>\n",
       "<p>5 rows × 21 columns</p>\n",
       "</div>"
      ],
      "text/plain": [
       "   COUNTY_emp  COUNTY_qp1  COUNTY_ap  COUNTY_est  COUNTY_sz_small  \\\n",
       "0   -0.112913   -0.073869  -0.072378   -0.186508        -0.182583   \n",
       "1   -0.133627   -0.099072  -0.099195   -0.195568        -0.191852   \n",
       "2   -0.133627   -0.099072  -0.099195   -0.213689        -0.210391   \n",
       "3   -0.126650   -0.096341  -0.096593   -0.168387        -0.164045   \n",
       "4    0.021185   -0.050649  -0.050028    0.030941         0.021341   \n",
       "\n",
       "   COUNTY_sz_med  COUNTY_sz_lrg  state_emp  state_qp1  state_ap  ...  \\\n",
       "0      -0.208177      -0.068197  -0.429247  -0.370593 -0.368762  ...   \n",
       "1      -0.208177      -0.068197  -0.449046  -0.397720 -0.395589  ...   \n",
       "2      -0.208177      -0.068197  -0.438452  -0.393130 -0.390732  ...   \n",
       "3      -0.208177      -0.068197  -0.449046  -0.397720 -0.395589  ...   \n",
       "4       0.299993      -0.068197  -0.277948  -0.322505 -0.319067  ...   \n",
       "\n",
       "   state_sz_small  state_sz_med  state_sz_lrg    US_emp    US_qp1     US_ap  \\\n",
       "0       -0.307806     -0.413296     -0.281891 -0.273433 -0.215133 -0.212495   \n",
       "1       -0.341080     -0.413296     -0.281891 -0.438846 -0.368173 -0.367096   \n",
       "2       -0.318975     -0.413296     -0.281891 -0.295585 -0.271332 -0.269824   \n",
       "3       -0.341080     -0.413296     -0.281891 -0.279185 -0.275113 -0.278307   \n",
       "4       -0.262432     -0.221431     -0.281891 -0.202998 -0.272488 -0.272200   \n",
       "\n",
       "     US_est  US_sz_small  US_sz_med  US_sz_lrg  \n",
       "0 -0.268779    -0.264633  -0.316036  -0.189199  \n",
       "1 -0.386327    -0.381312  -0.419788  -0.207136  \n",
       "2 -0.006792     0.002719  -0.410941  -0.207136  \n",
       "3  0.129726     0.141099  -0.418983  -0.207136  \n",
       "4 -0.285090    -0.285577  -0.111749  -0.201157  \n",
       "\n",
       "[5 rows x 21 columns]"
      ]
     },
     "execution_count": 84,
     "metadata": {},
     "output_type": "execute_result"
    }
   ],
   "source": [
    "standardized_num.head()"
   ]
  },
  {
   "cell_type": "code",
   "execution_count": 85,
   "metadata": {},
   "outputs": [
    {
     "data": {
      "text/html": [
       "<div>\n",
       "<style scoped>\n",
       "    .dataframe tbody tr th:only-of-type {\n",
       "        vertical-align: middle;\n",
       "    }\n",
       "\n",
       "    .dataframe tbody tr th {\n",
       "        vertical-align: top;\n",
       "    }\n",
       "\n",
       "    .dataframe thead th {\n",
       "        text-align: right;\n",
       "    }\n",
       "</style>\n",
       "<table border=\"1\" class=\"dataframe\">\n",
       "  <thead>\n",
       "    <tr style=\"text-align: right;\">\n",
       "      <th></th>\n",
       "      <th>COUNTY_Avg_AP_I</th>\n",
       "    </tr>\n",
       "  </thead>\n",
       "  <tbody>\n",
       "    <tr>\n",
       "      <td>11</td>\n",
       "      <td>2078.750000</td>\n",
       "    </tr>\n",
       "    <tr>\n",
       "      <td>13</td>\n",
       "      <td>0.000000</td>\n",
       "    </tr>\n",
       "    <tr>\n",
       "      <td>17</td>\n",
       "      <td>0.000000</td>\n",
       "    </tr>\n",
       "    <tr>\n",
       "      <td>38</td>\n",
       "      <td>134.500000</td>\n",
       "    </tr>\n",
       "    <tr>\n",
       "      <td>76</td>\n",
       "      <td>544.464286</td>\n",
       "    </tr>\n",
       "  </tbody>\n",
       "</table>\n",
       "</div>"
      ],
      "text/plain": [
       "    COUNTY_Avg_AP_I\n",
       "11      2078.750000\n",
       "13         0.000000\n",
       "17         0.000000\n",
       "38       134.500000\n",
       "76       544.464286"
      ]
     },
     "execution_count": 85,
     "metadata": {},
     "output_type": "execute_result"
    }
   ],
   "source": [
    "target.head()"
   ]
  },
  {
   "cell_type": "code",
   "execution_count": 86,
   "metadata": {},
   "outputs": [],
   "source": [
    "#n= [First_review_data['COUNTY_fipscty'],CAT_DATA,standardized_num,target]"
   ]
  },
  {
   "cell_type": "code",
   "execution_count": 87,
   "metadata": {},
   "outputs": [],
   "source": [
    "#n= First_review_data['COUNTY_fipscty'].join(CAT_DATA)\n",
    "#n = pd.concat([First_review_data['COUNTY_fipscty'],CAT_DATA,standardized_num,target],ignore_index=True,axis=1,sort=False)"
   ]
  },
  {
   "cell_type": "code",
   "execution_count": 88,
   "metadata": {},
   "outputs": [],
   "source": [
    " n = pd.merge(First_review_data['COUNTY_fipscty'], target, left_index=True, right_index=True, how='outer')\n"
   ]
  },
  {
   "cell_type": "code",
   "execution_count": 89,
   "metadata": {},
   "outputs": [
    {
     "data": {
      "text/plain": [
       "(559, 2)"
      ]
     },
     "execution_count": 89,
     "metadata": {},
     "output_type": "execute_result"
    }
   ],
   "source": [
    "n.shape"
   ]
  },
  {
   "cell_type": "code",
   "execution_count": 90,
   "metadata": {},
   "outputs": [],
   "source": [
    "n_1= pd.merge(n,CAT_DATA,left_index=True, right_index=True, how='outer')\n",
    "\n"
   ]
  },
  {
   "cell_type": "code",
   "execution_count": 91,
   "metadata": {},
   "outputs": [
    {
     "data": {
      "text/html": [
       "<div>\n",
       "<style scoped>\n",
       "    .dataframe tbody tr th:only-of-type {\n",
       "        vertical-align: middle;\n",
       "    }\n",
       "\n",
       "    .dataframe tbody tr th {\n",
       "        vertical-align: top;\n",
       "    }\n",
       "\n",
       "    .dataframe thead th {\n",
       "        text-align: right;\n",
       "    }\n",
       "</style>\n",
       "<table border=\"1\" class=\"dataframe\">\n",
       "  <thead>\n",
       "    <tr style=\"text-align: right;\">\n",
       "      <th></th>\n",
       "      <th>COUNTY_fipscty</th>\n",
       "      <th>COUNTY_Avg_AP_I</th>\n",
       "      <th>state_lfo_-</th>\n",
       "      <th>state_lfo_C</th>\n",
       "      <th>state_lfo_G</th>\n",
       "      <th>state_lfo_N</th>\n",
       "      <th>state_lfo_O</th>\n",
       "      <th>state_lfo_P</th>\n",
       "      <th>state_lfo_S</th>\n",
       "      <th>state_lfo_Z</th>\n",
       "      <th>US_lfo_-</th>\n",
       "      <th>US_lfo_C</th>\n",
       "      <th>US_lfo_G</th>\n",
       "      <th>US_lfo_N</th>\n",
       "      <th>US_lfo_O</th>\n",
       "      <th>US_lfo_P</th>\n",
       "      <th>US_lfo_S</th>\n",
       "      <th>US_lfo_Z</th>\n",
       "    </tr>\n",
       "  </thead>\n",
       "  <tbody>\n",
       "    <tr>\n",
       "      <td>11</td>\n",
       "      <td>259</td>\n",
       "      <td>2078.750000</td>\n",
       "      <td>0</td>\n",
       "      <td>0</td>\n",
       "      <td>0</td>\n",
       "      <td>0</td>\n",
       "      <td>0</td>\n",
       "      <td>0</td>\n",
       "      <td>0</td>\n",
       "      <td>1</td>\n",
       "      <td>1</td>\n",
       "      <td>0</td>\n",
       "      <td>0</td>\n",
       "      <td>0</td>\n",
       "      <td>0</td>\n",
       "      <td>0</td>\n",
       "      <td>0</td>\n",
       "      <td>0</td>\n",
       "    </tr>\n",
       "    <tr>\n",
       "      <td>13</td>\n",
       "      <td>17</td>\n",
       "      <td>0.000000</td>\n",
       "      <td>0</td>\n",
       "      <td>0</td>\n",
       "      <td>0</td>\n",
       "      <td>1</td>\n",
       "      <td>0</td>\n",
       "      <td>0</td>\n",
       "      <td>0</td>\n",
       "      <td>0</td>\n",
       "      <td>0</td>\n",
       "      <td>0</td>\n",
       "      <td>0</td>\n",
       "      <td>0</td>\n",
       "      <td>1</td>\n",
       "      <td>0</td>\n",
       "      <td>0</td>\n",
       "      <td>0</td>\n",
       "    </tr>\n",
       "    <tr>\n",
       "      <td>17</td>\n",
       "      <td>445</td>\n",
       "      <td>0.000000</td>\n",
       "      <td>0</td>\n",
       "      <td>0</td>\n",
       "      <td>0</td>\n",
       "      <td>0</td>\n",
       "      <td>0</td>\n",
       "      <td>1</td>\n",
       "      <td>0</td>\n",
       "      <td>0</td>\n",
       "      <td>1</td>\n",
       "      <td>0</td>\n",
       "      <td>0</td>\n",
       "      <td>0</td>\n",
       "      <td>0</td>\n",
       "      <td>0</td>\n",
       "      <td>0</td>\n",
       "      <td>0</td>\n",
       "    </tr>\n",
       "    <tr>\n",
       "      <td>38</td>\n",
       "      <td>89</td>\n",
       "      <td>134.500000</td>\n",
       "      <td>0</td>\n",
       "      <td>0</td>\n",
       "      <td>0</td>\n",
       "      <td>1</td>\n",
       "      <td>0</td>\n",
       "      <td>0</td>\n",
       "      <td>0</td>\n",
       "      <td>0</td>\n",
       "      <td>0</td>\n",
       "      <td>0</td>\n",
       "      <td>0</td>\n",
       "      <td>0</td>\n",
       "      <td>0</td>\n",
       "      <td>0</td>\n",
       "      <td>1</td>\n",
       "      <td>0</td>\n",
       "    </tr>\n",
       "    <tr>\n",
       "      <td>76</td>\n",
       "      <td>141</td>\n",
       "      <td>544.464286</td>\n",
       "      <td>0</td>\n",
       "      <td>0</td>\n",
       "      <td>0</td>\n",
       "      <td>0</td>\n",
       "      <td>0</td>\n",
       "      <td>1</td>\n",
       "      <td>0</td>\n",
       "      <td>0</td>\n",
       "      <td>0</td>\n",
       "      <td>0</td>\n",
       "      <td>0</td>\n",
       "      <td>0</td>\n",
       "      <td>0</td>\n",
       "      <td>1</td>\n",
       "      <td>0</td>\n",
       "      <td>0</td>\n",
       "    </tr>\n",
       "  </tbody>\n",
       "</table>\n",
       "</div>"
      ],
      "text/plain": [
       "    COUNTY_fipscty  COUNTY_Avg_AP_I  state_lfo_-  state_lfo_C  state_lfo_G  \\\n",
       "11             259      2078.750000            0            0            0   \n",
       "13              17         0.000000            0            0            0   \n",
       "17             445         0.000000            0            0            0   \n",
       "38              89       134.500000            0            0            0   \n",
       "76             141       544.464286            0            0            0   \n",
       "\n",
       "    state_lfo_N  state_lfo_O  state_lfo_P  state_lfo_S  state_lfo_Z  US_lfo_-  \\\n",
       "11            0            0            0            0            1         1   \n",
       "13            1            0            0            0            0         0   \n",
       "17            0            0            1            0            0         1   \n",
       "38            1            0            0            0            0         0   \n",
       "76            0            0            1            0            0         0   \n",
       "\n",
       "    US_lfo_C  US_lfo_G  US_lfo_N  US_lfo_O  US_lfo_P  US_lfo_S  US_lfo_Z  \n",
       "11         0         0         0         0         0         0         0  \n",
       "13         0         0         0         1         0         0         0  \n",
       "17         0         0         0         0         0         0         0  \n",
       "38         0         0         0         0         0         1         0  \n",
       "76         0         0         0         0         1         0         0  "
      ]
     },
     "execution_count": 91,
     "metadata": {},
     "output_type": "execute_result"
    }
   ],
   "source": [
    "n_1.head()"
   ]
  },
  {
   "cell_type": "code",
   "execution_count": 92,
   "metadata": {},
   "outputs": [
    {
     "data": {
      "text/html": [
       "<div>\n",
       "<style scoped>\n",
       "    .dataframe tbody tr th:only-of-type {\n",
       "        vertical-align: middle;\n",
       "    }\n",
       "\n",
       "    .dataframe tbody tr th {\n",
       "        vertical-align: top;\n",
       "    }\n",
       "\n",
       "    .dataframe thead th {\n",
       "        text-align: right;\n",
       "    }\n",
       "</style>\n",
       "<table border=\"1\" class=\"dataframe\">\n",
       "  <thead>\n",
       "    <tr style=\"text-align: right;\">\n",
       "      <th></th>\n",
       "      <th>COUNTY_emp</th>\n",
       "      <th>COUNTY_qp1</th>\n",
       "      <th>COUNTY_ap</th>\n",
       "      <th>COUNTY_est</th>\n",
       "      <th>COUNTY_sz_small</th>\n",
       "      <th>COUNTY_sz_med</th>\n",
       "      <th>COUNTY_sz_lrg</th>\n",
       "      <th>state_emp</th>\n",
       "      <th>state_qp1</th>\n",
       "      <th>state_ap</th>\n",
       "      <th>...</th>\n",
       "      <th>state_sz_small</th>\n",
       "      <th>state_sz_med</th>\n",
       "      <th>state_sz_lrg</th>\n",
       "      <th>US_emp</th>\n",
       "      <th>US_qp1</th>\n",
       "      <th>US_ap</th>\n",
       "      <th>US_est</th>\n",
       "      <th>US_sz_small</th>\n",
       "      <th>US_sz_med</th>\n",
       "      <th>US_sz_lrg</th>\n",
       "    </tr>\n",
       "  </thead>\n",
       "  <tbody>\n",
       "    <tr>\n",
       "      <td>0</td>\n",
       "      <td>-0.112913</td>\n",
       "      <td>-0.073869</td>\n",
       "      <td>-0.072378</td>\n",
       "      <td>-0.186508</td>\n",
       "      <td>-0.182583</td>\n",
       "      <td>-0.208177</td>\n",
       "      <td>-0.068197</td>\n",
       "      <td>-0.429247</td>\n",
       "      <td>-0.370593</td>\n",
       "      <td>-0.368762</td>\n",
       "      <td>...</td>\n",
       "      <td>-0.307806</td>\n",
       "      <td>-0.413296</td>\n",
       "      <td>-0.281891</td>\n",
       "      <td>-0.273433</td>\n",
       "      <td>-0.215133</td>\n",
       "      <td>-0.212495</td>\n",
       "      <td>-0.268779</td>\n",
       "      <td>-0.264633</td>\n",
       "      <td>-0.316036</td>\n",
       "      <td>-0.189199</td>\n",
       "    </tr>\n",
       "    <tr>\n",
       "      <td>1</td>\n",
       "      <td>-0.133627</td>\n",
       "      <td>-0.099072</td>\n",
       "      <td>-0.099195</td>\n",
       "      <td>-0.195568</td>\n",
       "      <td>-0.191852</td>\n",
       "      <td>-0.208177</td>\n",
       "      <td>-0.068197</td>\n",
       "      <td>-0.449046</td>\n",
       "      <td>-0.397720</td>\n",
       "      <td>-0.395589</td>\n",
       "      <td>...</td>\n",
       "      <td>-0.341080</td>\n",
       "      <td>-0.413296</td>\n",
       "      <td>-0.281891</td>\n",
       "      <td>-0.438846</td>\n",
       "      <td>-0.368173</td>\n",
       "      <td>-0.367096</td>\n",
       "      <td>-0.386327</td>\n",
       "      <td>-0.381312</td>\n",
       "      <td>-0.419788</td>\n",
       "      <td>-0.207136</td>\n",
       "    </tr>\n",
       "    <tr>\n",
       "      <td>2</td>\n",
       "      <td>-0.133627</td>\n",
       "      <td>-0.099072</td>\n",
       "      <td>-0.099195</td>\n",
       "      <td>-0.213689</td>\n",
       "      <td>-0.210391</td>\n",
       "      <td>-0.208177</td>\n",
       "      <td>-0.068197</td>\n",
       "      <td>-0.438452</td>\n",
       "      <td>-0.393130</td>\n",
       "      <td>-0.390732</td>\n",
       "      <td>...</td>\n",
       "      <td>-0.318975</td>\n",
       "      <td>-0.413296</td>\n",
       "      <td>-0.281891</td>\n",
       "      <td>-0.295585</td>\n",
       "      <td>-0.271332</td>\n",
       "      <td>-0.269824</td>\n",
       "      <td>-0.006792</td>\n",
       "      <td>0.002719</td>\n",
       "      <td>-0.410941</td>\n",
       "      <td>-0.207136</td>\n",
       "    </tr>\n",
       "    <tr>\n",
       "      <td>3</td>\n",
       "      <td>-0.126650</td>\n",
       "      <td>-0.096341</td>\n",
       "      <td>-0.096593</td>\n",
       "      <td>-0.168387</td>\n",
       "      <td>-0.164045</td>\n",
       "      <td>-0.208177</td>\n",
       "      <td>-0.068197</td>\n",
       "      <td>-0.449046</td>\n",
       "      <td>-0.397720</td>\n",
       "      <td>-0.395589</td>\n",
       "      <td>...</td>\n",
       "      <td>-0.341080</td>\n",
       "      <td>-0.413296</td>\n",
       "      <td>-0.281891</td>\n",
       "      <td>-0.279185</td>\n",
       "      <td>-0.275113</td>\n",
       "      <td>-0.278307</td>\n",
       "      <td>0.129726</td>\n",
       "      <td>0.141099</td>\n",
       "      <td>-0.418983</td>\n",
       "      <td>-0.207136</td>\n",
       "    </tr>\n",
       "    <tr>\n",
       "      <td>4</td>\n",
       "      <td>0.021185</td>\n",
       "      <td>-0.050649</td>\n",
       "      <td>-0.050028</td>\n",
       "      <td>0.030941</td>\n",
       "      <td>0.021341</td>\n",
       "      <td>0.299993</td>\n",
       "      <td>-0.068197</td>\n",
       "      <td>-0.277948</td>\n",
       "      <td>-0.322505</td>\n",
       "      <td>-0.319067</td>\n",
       "      <td>...</td>\n",
       "      <td>-0.262432</td>\n",
       "      <td>-0.221431</td>\n",
       "      <td>-0.281891</td>\n",
       "      <td>-0.202998</td>\n",
       "      <td>-0.272488</td>\n",
       "      <td>-0.272200</td>\n",
       "      <td>-0.285090</td>\n",
       "      <td>-0.285577</td>\n",
       "      <td>-0.111749</td>\n",
       "      <td>-0.201157</td>\n",
       "    </tr>\n",
       "  </tbody>\n",
       "</table>\n",
       "<p>5 rows × 21 columns</p>\n",
       "</div>"
      ],
      "text/plain": [
       "   COUNTY_emp  COUNTY_qp1  COUNTY_ap  COUNTY_est  COUNTY_sz_small  \\\n",
       "0   -0.112913   -0.073869  -0.072378   -0.186508        -0.182583   \n",
       "1   -0.133627   -0.099072  -0.099195   -0.195568        -0.191852   \n",
       "2   -0.133627   -0.099072  -0.099195   -0.213689        -0.210391   \n",
       "3   -0.126650   -0.096341  -0.096593   -0.168387        -0.164045   \n",
       "4    0.021185   -0.050649  -0.050028    0.030941         0.021341   \n",
       "\n",
       "   COUNTY_sz_med  COUNTY_sz_lrg  state_emp  state_qp1  state_ap  ...  \\\n",
       "0      -0.208177      -0.068197  -0.429247  -0.370593 -0.368762  ...   \n",
       "1      -0.208177      -0.068197  -0.449046  -0.397720 -0.395589  ...   \n",
       "2      -0.208177      -0.068197  -0.438452  -0.393130 -0.390732  ...   \n",
       "3      -0.208177      -0.068197  -0.449046  -0.397720 -0.395589  ...   \n",
       "4       0.299993      -0.068197  -0.277948  -0.322505 -0.319067  ...   \n",
       "\n",
       "   state_sz_small  state_sz_med  state_sz_lrg    US_emp    US_qp1     US_ap  \\\n",
       "0       -0.307806     -0.413296     -0.281891 -0.273433 -0.215133 -0.212495   \n",
       "1       -0.341080     -0.413296     -0.281891 -0.438846 -0.368173 -0.367096   \n",
       "2       -0.318975     -0.413296     -0.281891 -0.295585 -0.271332 -0.269824   \n",
       "3       -0.341080     -0.413296     -0.281891 -0.279185 -0.275113 -0.278307   \n",
       "4       -0.262432     -0.221431     -0.281891 -0.202998 -0.272488 -0.272200   \n",
       "\n",
       "     US_est  US_sz_small  US_sz_med  US_sz_lrg  \n",
       "0 -0.268779    -0.264633  -0.316036  -0.189199  \n",
       "1 -0.386327    -0.381312  -0.419788  -0.207136  \n",
       "2 -0.006792     0.002719  -0.410941  -0.207136  \n",
       "3  0.129726     0.141099  -0.418983  -0.207136  \n",
       "4 -0.285090    -0.285577  -0.111749  -0.201157  \n",
       "\n",
       "[5 rows x 21 columns]"
      ]
     },
     "execution_count": 92,
     "metadata": {},
     "output_type": "execute_result"
    }
   ],
   "source": [
    "standardized_num.head()"
   ]
  },
  {
   "cell_type": "code",
   "execution_count": 93,
   "metadata": {},
   "outputs": [],
   "source": [
    "#n_2= pd.merge(n_1,standardized_num,left_index=True, right_index=True, how='outer')\n",
    "#n_1['joincol'] = 1\n",
    "#standardized_num['joincol'] = 1\n"
   ]
  },
  {
   "cell_type": "code",
   "execution_count": 94,
   "metadata": {},
   "outputs": [],
   "source": [
    "n_1['new_col'] = range(1, len(n_1) + 1)\n"
   ]
  },
  {
   "cell_type": "code",
   "execution_count": 95,
   "metadata": {},
   "outputs": [],
   "source": [
    "standardized_num['new_col'] = range(1, len(standardized_num) + 1)"
   ]
  },
  {
   "cell_type": "code",
   "execution_count": 96,
   "metadata": {},
   "outputs": [],
   "source": [
    "n_3=pd.merge(left=n_1,right=standardized_num, on='new_col', how='outer')"
   ]
  },
  {
   "cell_type": "code",
   "execution_count": 97,
   "metadata": {},
   "outputs": [],
   "source": [
    "#n_2= pd.merge(standardized_num,n_1,left_index=True, right_index=True, how='outer')"
   ]
  },
  {
   "cell_type": "code",
   "execution_count": 98,
   "metadata": {},
   "outputs": [
    {
     "data": {
      "text/plain": [
       "(559, 40)"
      ]
     },
     "execution_count": 98,
     "metadata": {},
     "output_type": "execute_result"
    }
   ],
   "source": [
    "n_3.shape"
   ]
  },
  {
   "cell_type": "code",
   "execution_count": 99,
   "metadata": {},
   "outputs": [],
   "source": [
    "n3=n_3.drop(columns=['new_col'])"
   ]
  },
  {
   "cell_type": "code",
   "execution_count": 100,
   "metadata": {
    "scrolled": true
   },
   "outputs": [],
   "source": [
    "FINAL_Texas_DATA = n_3"
   ]
  },
  {
   "cell_type": "code",
   "execution_count": 101,
   "metadata": {},
   "outputs": [
    {
     "data": {
      "text/plain": [
       "Index(['COUNTY_fipscty', 'COUNTY_Avg_AP_I', 'state_lfo_-', 'state_lfo_C',\n",
       "       'state_lfo_G', 'state_lfo_N', 'state_lfo_O', 'state_lfo_P',\n",
       "       'state_lfo_S', 'state_lfo_Z', 'US_lfo_-', 'US_lfo_C', 'US_lfo_G',\n",
       "       'US_lfo_N', 'US_lfo_O', 'US_lfo_P', 'US_lfo_S', 'US_lfo_Z', 'new_col',\n",
       "       'COUNTY_emp', 'COUNTY_qp1', 'COUNTY_ap', 'COUNTY_est',\n",
       "       'COUNTY_sz_small', 'COUNTY_sz_med', 'COUNTY_sz_lrg', 'state_emp',\n",
       "       'state_qp1', 'state_ap', 'state_est', 'state_sz_small', 'state_sz_med',\n",
       "       'state_sz_lrg', 'US_emp', 'US_qp1', 'US_ap', 'US_est', 'US_sz_small',\n",
       "       'US_sz_med', 'US_sz_lrg'],\n",
       "      dtype='object')"
      ]
     },
     "execution_count": 101,
     "metadata": {},
     "output_type": "execute_result"
    }
   ],
   "source": [
    "FINAL_Texas_DATA.columns"
   ]
  },
  {
   "cell_type": "code",
   "execution_count": 102,
   "metadata": {
    "scrolled": false
   },
   "outputs": [],
   "source": [
    "#FINAL_Texas_DATA=FINAL_Texas_DATA.drop(columns=['joincol_x','new_col','joincol_y'])"
   ]
  },
  {
   "cell_type": "code",
   "execution_count": 103,
   "metadata": {},
   "outputs": [
    {
     "data": {
      "text/plain": [
       "Index(['COUNTY_fipscty', 'COUNTY_Avg_AP_I', 'state_lfo_-', 'state_lfo_C',\n",
       "       'state_lfo_G', 'state_lfo_N', 'state_lfo_O', 'state_lfo_P',\n",
       "       'state_lfo_S', 'state_lfo_Z', 'US_lfo_-', 'US_lfo_C', 'US_lfo_G',\n",
       "       'US_lfo_N', 'US_lfo_O', 'US_lfo_P', 'US_lfo_S', 'US_lfo_Z', 'new_col',\n",
       "       'COUNTY_emp', 'COUNTY_qp1', 'COUNTY_ap', 'COUNTY_est',\n",
       "       'COUNTY_sz_small', 'COUNTY_sz_med', 'COUNTY_sz_lrg', 'state_emp',\n",
       "       'state_qp1', 'state_ap', 'state_est', 'state_sz_small', 'state_sz_med',\n",
       "       'state_sz_lrg', 'US_emp', 'US_qp1', 'US_ap', 'US_est', 'US_sz_small',\n",
       "       'US_sz_med', 'US_sz_lrg'],\n",
       "      dtype='object')"
      ]
     },
     "execution_count": 103,
     "metadata": {},
     "output_type": "execute_result"
    }
   ],
   "source": [
    "FINAL_Texas_DATA.columns"
   ]
  },
  {
   "cell_type": "code",
   "execution_count": 104,
   "metadata": {},
   "outputs": [
    {
     "data": {
      "text/plain": [
       "COUNTY_fipscty     0\n",
       "COUNTY_Avg_AP_I    0\n",
       "state_lfo_-        0\n",
       "state_lfo_C        0\n",
       "state_lfo_G        0\n",
       "state_lfo_N        0\n",
       "state_lfo_O        0\n",
       "state_lfo_P        0\n",
       "state_lfo_S        0\n",
       "state_lfo_Z        0\n",
       "US_lfo_-           0\n",
       "US_lfo_C           0\n",
       "US_lfo_G           0\n",
       "US_lfo_N           0\n",
       "US_lfo_O           0\n",
       "US_lfo_P           0\n",
       "US_lfo_S           0\n",
       "US_lfo_Z           0\n",
       "new_col            0\n",
       "COUNTY_emp         0\n",
       "COUNTY_qp1         0\n",
       "COUNTY_ap          0\n",
       "COUNTY_est         0\n",
       "COUNTY_sz_small    0\n",
       "COUNTY_sz_med      0\n",
       "COUNTY_sz_lrg      0\n",
       "state_emp          0\n",
       "state_qp1          0\n",
       "state_ap           0\n",
       "state_est          0\n",
       "state_sz_small     0\n",
       "state_sz_med       0\n",
       "state_sz_lrg       0\n",
       "US_emp             0\n",
       "US_qp1             0\n",
       "US_ap              0\n",
       "US_est             0\n",
       "US_sz_small        0\n",
       "US_sz_med          0\n",
       "US_sz_lrg          0\n",
       "dtype: int64"
      ]
     },
     "execution_count": 104,
     "metadata": {},
     "output_type": "execute_result"
    }
   ],
   "source": [
    "FINAL_Texas_DATA.isnull().sum()"
   ]
  },
  {
   "cell_type": "code",
   "execution_count": 105,
   "metadata": {},
   "outputs": [
    {
     "data": {
      "text/plain": [
       "count      559.000000\n",
       "mean       827.730159\n",
       "std       5678.149008\n",
       "min          0.000000\n",
       "25%          0.000000\n",
       "50%          0.000000\n",
       "75%        330.761905\n",
       "max      75633.842697\n",
       "Name: COUNTY_Avg_AP_I, dtype: float64"
      ]
     },
     "execution_count": 105,
     "metadata": {},
     "output_type": "execute_result"
    }
   ],
   "source": [
    "FINAL_Texas_DATA.COUNTY_Avg_AP_I.describe()"
   ]
  },
  {
   "cell_type": "code",
   "execution_count": 106,
   "metadata": {},
   "outputs": [
    {
     "data": {
      "text/plain": [
       "count      275.000000\n",
       "mean      1682.549668\n",
       "std       8013.483600\n",
       "min         36.000000\n",
       "25%        200.466667\n",
       "50%        333.282609\n",
       "75%        717.544850\n",
       "max      75633.842697\n",
       "Name: COUNTY_Avg_AP_I, dtype: float64"
      ]
     },
     "execution_count": 106,
     "metadata": {},
     "output_type": "execute_result"
    }
   ],
   "source": [
    "T_D = FINAL_Texas_DATA[FINAL_Texas_DATA.COUNTY_Avg_AP_I != 0]\n",
    "\n",
    "T_D['COUNTY_Avg_AP_I'].describe()\n",
    "\n"
   ]
  },
  {
   "cell_type": "code",
   "execution_count": 107,
   "metadata": {},
   "outputs": [
    {
     "data": {
      "text/plain": [
       "<matplotlib.axes._subplots.AxesSubplot at 0x12213ed90>"
      ]
     },
     "execution_count": 107,
     "metadata": {},
     "output_type": "execute_result"
    },
    {
     "data": {
      "image/png": "[encoded data removed]",
      "text/plain": [
       "<Figure size 432x288 with 1 Axes>"
      ]
     },
     "metadata": {
      "needs_background": "light"
     },
     "output_type": "display_data"
    }
   ],
   "source": [
    "FINAL_Texas_DATA.boxplot(column=['COUNTY_Avg_AP_I'])"
   ]
  },
  {
   "cell_type": "code",
   "execution_count": 108,
   "metadata": {},
   "outputs": [
    {
     "data": {
      "text/plain": [
       "<matplotlib.axes._subplots.AxesSubplot at 0x1221dcdd0>"
      ]
     },
     "execution_count": 108,
     "metadata": {},
     "output_type": "execute_result"
    },
    {
     "data": {
      "image/png": "[encoded data removed]",
      "text/plain": [
       "<Figure size 432x288 with 1 Axes>"
      ]
     },
     "metadata": {
      "needs_background": "light"
     },
     "output_type": "display_data"
    }
   ],
   "source": [
    "import seaborn as sns\n",
    "sns.boxplot(x=FINAL_Texas_DATA.COUNTY_Avg_AP_I)"
   ]
  },
  {
   "cell_type": "markdown",
   "metadata": {},
   "source": [
    "# 'extremely_low' =0-6\n",
    "# 'low'=6-120\n",
    "# 'med'=120-551\n",
    "# 'high'=551-95690\n"
   ]
  },
  {
   "cell_type": "code",
   "execution_count": 109,
   "metadata": {},
   "outputs": [],
   "source": [
    "FINAL_Texas_DATA['Countybins'] = pd.cut(x= FINAL_Texas_DATA['COUNTY_Avg_AP_I'], bins=[0,11,393,937,108066],labels = ['0','1', '2', '3'],include_lowest=True)"
   ]
  },
  {
   "cell_type": "code",
   "execution_count": 110,
   "metadata": {},
   "outputs": [],
   "source": [
    "FINAL_Texas_DATA=FINAL_Texas_DATA.dropna()"
   ]
  },
  {
   "cell_type": "code",
   "execution_count": 111,
   "metadata": {},
   "outputs": [],
   "source": [
    "Ctrain_Y=FINAL_Texas_DATA['Countybins']\n",
    "\n"
   ]
  },
  {
   "cell_type": "code",
   "execution_count": 112,
   "metadata": {},
   "outputs": [
    {
     "data": {
      "text/plain": [
       "COUNTY_fipscty     0\n",
       "COUNTY_Avg_AP_I    0\n",
       "state_lfo_-        0\n",
       "state_lfo_C        0\n",
       "state_lfo_G        0\n",
       "state_lfo_N        0\n",
       "state_lfo_O        0\n",
       "state_lfo_P        0\n",
       "state_lfo_S        0\n",
       "state_lfo_Z        0\n",
       "US_lfo_-           0\n",
       "US_lfo_C           0\n",
       "US_lfo_G           0\n",
       "US_lfo_N           0\n",
       "US_lfo_O           0\n",
       "US_lfo_P           0\n",
       "US_lfo_S           0\n",
       "US_lfo_Z           0\n",
       "new_col            0\n",
       "COUNTY_emp         0\n",
       "COUNTY_qp1         0\n",
       "COUNTY_ap          0\n",
       "COUNTY_est         0\n",
       "COUNTY_sz_small    0\n",
       "COUNTY_sz_med      0\n",
       "COUNTY_sz_lrg      0\n",
       "state_emp          0\n",
       "state_qp1          0\n",
       "state_ap           0\n",
       "state_est          0\n",
       "state_sz_small     0\n",
       "state_sz_med       0\n",
       "state_sz_lrg       0\n",
       "US_emp             0\n",
       "US_qp1             0\n",
       "US_ap              0\n",
       "US_est             0\n",
       "US_sz_small        0\n",
       "US_sz_med          0\n",
       "US_sz_lrg          0\n",
       "Countybins         0\n",
       "dtype: int64"
      ]
     },
     "execution_count": 112,
     "metadata": {},
     "output_type": "execute_result"
    }
   ],
   "source": [
    "FINAL_Texas_DATA.isnull().sum()"
   ]
  },
  {
   "cell_type": "code",
   "execution_count": null,
   "metadata": {},
   "outputs": [],
   "source": []
  },
  {
   "cell_type": "code",
   "execution_count": 113,
   "metadata": {},
   "outputs": [],
   "source": [
    "FINAL_Texas_DATA = FINAL_Texas_DATA.drop(columns = [\"Countybins\"])"
   ]
  },
  {
   "cell_type": "code",
   "execution_count": 114,
   "metadata": {},
   "outputs": [],
   "source": [
    "#FINAL_Texas_DATA= FINAL_Texas_DATA.drop(columns=['naics'])"
   ]
  },
  {
   "cell_type": "code",
   "execution_count": 115,
   "metadata": {},
   "outputs": [],
   "source": [
    "from sklearn.model_selection import train_test_split"
   ]
  },
  {
   "cell_type": "code",
   "execution_count": 116,
   "metadata": {},
   "outputs": [],
   "source": [
    "X_Ctrain, X_Cval, y_Ctrain, y_Cval = train_test_split(FINAL_Texas_DATA,Ctrain_Y,test_size = 0.3,random_state = 123)"
   ]
  },
  {
   "cell_type": "code",
   "execution_count": 117,
   "metadata": {},
   "outputs": [
    {
     "data": {
      "text/plain": [
       "(391, 40)"
      ]
     },
     "execution_count": 117,
     "metadata": {},
     "output_type": "execute_result"
    }
   ],
   "source": [
    "X_Ctrain.shape"
   ]
  },
  {
   "cell_type": "code",
   "execution_count": null,
   "metadata": {},
   "outputs": [],
   "source": []
  },
  {
   "cell_type": "code",
   "execution_count": 118,
   "metadata": {},
   "outputs": [],
   "source": [
    "from sklearn.linear_model import LogisticRegression\n",
    "from sklearn import metrics, model_selection\n",
    "from sklearn import datasets\n",
    "from sklearn.feature_selection import RFE"
   ]
  },
  {
   "cell_type": "code",
   "execution_count": 119,
   "metadata": {},
   "outputs": [],
   "source": [
    "logreg = LogisticRegression() #"
   ]
  },
  {
   "cell_type": "code",
   "execution_count": 120,
   "metadata": {},
   "outputs": [
    {
     "data": {
      "text/plain": [
       "0"
      ]
     },
     "execution_count": 120,
     "metadata": {},
     "output_type": "execute_result"
    }
   ],
   "source": [
    "y_Ctrain.isnull().sum()"
   ]
  },
  {
   "cell_type": "code",
   "execution_count": null,
   "metadata": {},
   "outputs": [],
   "source": []
  },
  {
   "cell_type": "code",
   "execution_count": 121,
   "metadata": {},
   "outputs": [
    {
     "data": {
      "text/plain": [
       "(391, 40)"
      ]
     },
     "execution_count": 121,
     "metadata": {},
     "output_type": "execute_result"
    }
   ],
   "source": [
    "#logreg.fit(X_Ctrain, y_Ctrain) #fitting the model \n",
    "X_Ctrain.shape"
   ]
  },
  {
   "cell_type": "code",
   "execution_count": 122,
   "metadata": {},
   "outputs": [
    {
     "data": {
      "text/plain": [
       "(391,)"
      ]
     },
     "execution_count": 122,
     "metadata": {},
     "output_type": "execute_result"
    }
   ],
   "source": [
    "y_Ctrain.shape"
   ]
  },
  {
   "cell_type": "code",
   "execution_count": 123,
   "metadata": {},
   "outputs": [
    {
     "name": "stdout",
     "output_type": "stream",
     "text": [
      "[False False  True False False False False False  True False  True False\n",
      " False False  True False  True False False  True  True  True  True  True\n",
      "  True  True False False  True False  True False False  True False  True\n",
      " False  True  True False]\n",
      "[22 18  1 13  3 17 15  8  1  2  1  6 14 11  1 16  1  4 23  1  1  1  1  1\n",
      "  1  1 19  9  1 12  1 21 10  1  7  1  5  1  1 20]\n"
     ]
    },
    {
     "name": "stderr",
     "output_type": "stream",
     "text": [
      "//anaconda3/lib/python3.7/site-packages/sklearn/linear_model/logistic.py:432: FutureWarning: Default solver will be changed to 'lbfgs' in 0.22. Specify a solver to silence this warning.\n",
      "  FutureWarning)\n",
      "//anaconda3/lib/python3.7/site-packages/sklearn/linear_model/logistic.py:469: FutureWarning: Default multi_class will be changed to 'auto' in 0.22. Specify the multi_class option to silence this warning.\n",
      "  \"this warning.\", FutureWarning)\n",
      "//anaconda3/lib/python3.7/site-packages/sklearn/linear_model/logistic.py:432: FutureWarning: Default solver will be changed to 'lbfgs' in 0.22. Specify a solver to silence this warning.\n",
      "  FutureWarning)\n",
      "//anaconda3/lib/python3.7/site-packages/sklearn/linear_model/logistic.py:469: FutureWarning: Default multi_class will be changed to 'auto' in 0.22. Specify the multi_class option to silence this warning.\n",
      "  \"this warning.\", FutureWarning)\n",
      "//anaconda3/lib/python3.7/site-packages/sklearn/linear_model/logistic.py:432: FutureWarning: Default solver will be changed to 'lbfgs' in 0.22. Specify a solver to silence this warning.\n",
      "  FutureWarning)\n",
      "//anaconda3/lib/python3.7/site-packages/sklearn/linear_model/logistic.py:469: FutureWarning: Default multi_class will be changed to 'auto' in 0.22. Specify the multi_class option to silence this warning.\n",
      "  \"this warning.\", FutureWarning)\n",
      "//anaconda3/lib/python3.7/site-packages/sklearn/linear_model/logistic.py:432: FutureWarning: Default solver will be changed to 'lbfgs' in 0.22. Specify a solver to silence this warning.\n",
      "  FutureWarning)\n",
      "//anaconda3/lib/python3.7/site-packages/sklearn/linear_model/logistic.py:469: FutureWarning: Default multi_class will be changed to 'auto' in 0.22. Specify the multi_class option to silence this warning.\n",
      "  \"this warning.\", FutureWarning)\n",
      "//anaconda3/lib/python3.7/site-packages/sklearn/linear_model/logistic.py:432: FutureWarning: Default solver will be changed to 'lbfgs' in 0.22. Specify a solver to silence this warning.\n",
      "  FutureWarning)\n",
      "//anaconda3/lib/python3.7/site-packages/sklearn/linear_model/logistic.py:469: FutureWarning: Default multi_class will be changed to 'auto' in 0.22. Specify the multi_class option to silence this warning.\n",
      "  \"this warning.\", FutureWarning)\n",
      "//anaconda3/lib/python3.7/site-packages/sklearn/linear_model/logistic.py:432: FutureWarning: Default solver will be changed to 'lbfgs' in 0.22. Specify a solver to silence this warning.\n",
      "  FutureWarning)\n",
      "//anaconda3/lib/python3.7/site-packages/sklearn/linear_model/logistic.py:469: FutureWarning: Default multi_class will be changed to 'auto' in 0.22. Specify the multi_class option to silence this warning.\n",
      "  \"this warning.\", FutureWarning)\n",
      "//anaconda3/lib/python3.7/site-packages/sklearn/linear_model/logistic.py:432: FutureWarning: Default solver will be changed to 'lbfgs' in 0.22. Specify a solver to silence this warning.\n",
      "  FutureWarning)\n",
      "//anaconda3/lib/python3.7/site-packages/sklearn/linear_model/logistic.py:469: FutureWarning: Default multi_class will be changed to 'auto' in 0.22. Specify the multi_class option to silence this warning.\n",
      "  \"this warning.\", FutureWarning)\n",
      "//anaconda3/lib/python3.7/site-packages/sklearn/linear_model/logistic.py:432: FutureWarning: Default solver will be changed to 'lbfgs' in 0.22. Specify a solver to silence this warning.\n",
      "  FutureWarning)\n",
      "//anaconda3/lib/python3.7/site-packages/sklearn/linear_model/logistic.py:469: FutureWarning: Default multi_class will be changed to 'auto' in 0.22. Specify the multi_class option to silence this warning.\n",
      "  \"this warning.\", FutureWarning)\n",
      "//anaconda3/lib/python3.7/site-packages/sklearn/linear_model/logistic.py:432: FutureWarning: Default solver will be changed to 'lbfgs' in 0.22. Specify a solver to silence this warning.\n",
      "  FutureWarning)\n",
      "//anaconda3/lib/python3.7/site-packages/sklearn/linear_model/logistic.py:469: FutureWarning: Default multi_class will be changed to 'auto' in 0.22. Specify the multi_class option to silence this warning.\n",
      "  \"this warning.\", FutureWarning)\n",
      "//anaconda3/lib/python3.7/site-packages/sklearn/linear_model/logistic.py:432: FutureWarning: Default solver will be changed to 'lbfgs' in 0.22. Specify a solver to silence this warning.\n",
      "  FutureWarning)\n",
      "//anaconda3/lib/python3.7/site-packages/sklearn/linear_model/logistic.py:469: FutureWarning: Default multi_class will be changed to 'auto' in 0.22. Specify the multi_class option to silence this warning.\n",
      "  \"this warning.\", FutureWarning)\n",
      "//anaconda3/lib/python3.7/site-packages/sklearn/linear_model/logistic.py:432: FutureWarning: Default solver will be changed to 'lbfgs' in 0.22. Specify a solver to silence this warning.\n",
      "  FutureWarning)\n",
      "//anaconda3/lib/python3.7/site-packages/sklearn/linear_model/logistic.py:469: FutureWarning: Default multi_class will be changed to 'auto' in 0.22. Specify the multi_class option to silence this warning.\n",
      "  \"this warning.\", FutureWarning)\n",
      "//anaconda3/lib/python3.7/site-packages/sklearn/linear_model/logistic.py:432: FutureWarning: Default solver will be changed to 'lbfgs' in 0.22. Specify a solver to silence this warning.\n",
      "  FutureWarning)\n",
      "//anaconda3/lib/python3.7/site-packages/sklearn/linear_model/logistic.py:469: FutureWarning: Default multi_class will be changed to 'auto' in 0.22. Specify the multi_class option to silence this warning.\n",
      "  \"this warning.\", FutureWarning)\n",
      "//anaconda3/lib/python3.7/site-packages/sklearn/linear_model/logistic.py:432: FutureWarning: Default solver will be changed to 'lbfgs' in 0.22. Specify a solver to silence this warning.\n",
      "  FutureWarning)\n",
      "//anaconda3/lib/python3.7/site-packages/sklearn/linear_model/logistic.py:469: FutureWarning: Default multi_class will be changed to 'auto' in 0.22. Specify the multi_class option to silence this warning.\n",
      "  \"this warning.\", FutureWarning)\n",
      "//anaconda3/lib/python3.7/site-packages/sklearn/linear_model/logistic.py:432: FutureWarning: Default solver will be changed to 'lbfgs' in 0.22. Specify a solver to silence this warning.\n",
      "  FutureWarning)\n",
      "//anaconda3/lib/python3.7/site-packages/sklearn/linear_model/logistic.py:469: FutureWarning: Default multi_class will be changed to 'auto' in 0.22. Specify the multi_class option to silence this warning.\n",
      "  \"this warning.\", FutureWarning)\n",
      "//anaconda3/lib/python3.7/site-packages/sklearn/linear_model/logistic.py:432: FutureWarning: Default solver will be changed to 'lbfgs' in 0.22. Specify a solver to silence this warning.\n",
      "  FutureWarning)\n",
      "//anaconda3/lib/python3.7/site-packages/sklearn/linear_model/logistic.py:469: FutureWarning: Default multi_class will be changed to 'auto' in 0.22. Specify the multi_class option to silence this warning.\n",
      "  \"this warning.\", FutureWarning)\n",
      "//anaconda3/lib/python3.7/site-packages/sklearn/linear_model/logistic.py:432: FutureWarning: Default solver will be changed to 'lbfgs' in 0.22. Specify a solver to silence this warning.\n",
      "  FutureWarning)\n",
      "//anaconda3/lib/python3.7/site-packages/sklearn/linear_model/logistic.py:469: FutureWarning: Default multi_class will be changed to 'auto' in 0.22. Specify the multi_class option to silence this warning.\n",
      "  \"this warning.\", FutureWarning)\n",
      "//anaconda3/lib/python3.7/site-packages/sklearn/linear_model/logistic.py:432: FutureWarning: Default solver will be changed to 'lbfgs' in 0.22. Specify a solver to silence this warning.\n",
      "  FutureWarning)\n",
      "//anaconda3/lib/python3.7/site-packages/sklearn/linear_model/logistic.py:469: FutureWarning: Default multi_class will be changed to 'auto' in 0.22. Specify the multi_class option to silence this warning.\n",
      "  \"this warning.\", FutureWarning)\n",
      "//anaconda3/lib/python3.7/site-packages/sklearn/linear_model/logistic.py:432: FutureWarning: Default solver will be changed to 'lbfgs' in 0.22. Specify a solver to silence this warning.\n",
      "  FutureWarning)\n",
      "//anaconda3/lib/python3.7/site-packages/sklearn/linear_model/logistic.py:469: FutureWarning: Default multi_class will be changed to 'auto' in 0.22. Specify the multi_class option to silence this warning.\n",
      "  \"this warning.\", FutureWarning)\n",
      "//anaconda3/lib/python3.7/site-packages/sklearn/linear_model/logistic.py:432: FutureWarning: Default solver will be changed to 'lbfgs' in 0.22. Specify a solver to silence this warning.\n",
      "  FutureWarning)\n",
      "//anaconda3/lib/python3.7/site-packages/sklearn/linear_model/logistic.py:469: FutureWarning: Default multi_class will be changed to 'auto' in 0.22. Specify the multi_class option to silence this warning.\n",
      "  \"this warning.\", FutureWarning)\n",
      "//anaconda3/lib/python3.7/site-packages/sklearn/linear_model/logistic.py:432: FutureWarning: Default solver will be changed to 'lbfgs' in 0.22. Specify a solver to silence this warning.\n",
      "  FutureWarning)\n",
      "//anaconda3/lib/python3.7/site-packages/sklearn/linear_model/logistic.py:469: FutureWarning: Default multi_class will be changed to 'auto' in 0.22. Specify the multi_class option to silence this warning.\n",
      "  \"this warning.\", FutureWarning)\n",
      "//anaconda3/lib/python3.7/site-packages/sklearn/linear_model/logistic.py:432: FutureWarning: Default solver will be changed to 'lbfgs' in 0.22. Specify a solver to silence this warning.\n",
      "  FutureWarning)\n",
      "//anaconda3/lib/python3.7/site-packages/sklearn/linear_model/logistic.py:469: FutureWarning: Default multi_class will be changed to 'auto' in 0.22. Specify the multi_class option to silence this warning.\n",
      "  \"this warning.\", FutureWarning)\n",
      "//anaconda3/lib/python3.7/site-packages/sklearn/linear_model/logistic.py:432: FutureWarning: Default solver will be changed to 'lbfgs' in 0.22. Specify a solver to silence this warning.\n",
      "  FutureWarning)\n",
      "//anaconda3/lib/python3.7/site-packages/sklearn/linear_model/logistic.py:469: FutureWarning: Default multi_class will be changed to 'auto' in 0.22. Specify the multi_class option to silence this warning.\n",
      "  \"this warning.\", FutureWarning)\n",
      "//anaconda3/lib/python3.7/site-packages/sklearn/linear_model/logistic.py:432: FutureWarning: Default solver will be changed to 'lbfgs' in 0.22. Specify a solver to silence this warning.\n",
      "  FutureWarning)\n",
      "//anaconda3/lib/python3.7/site-packages/sklearn/linear_model/logistic.py:469: FutureWarning: Default multi_class will be changed to 'auto' in 0.22. Specify the multi_class option to silence this warning.\n",
      "  \"this warning.\", FutureWarning)\n"
     ]
    }
   ],
   "source": [
    "#y_pred_County = linreg.predict(X_Cval)\n",
    "#print(metrics.mean_squared_error(y_Cval, y_pred_County))\n",
    "rfe = RFE(logreg, 18)\n",
    "rfe = rfe.fit(X_Ctrain, y_Ctrain) # performing RFE for variable ranks\n",
    "print(rfe.support_)\n",
    "print(rfe.ranking_)"
   ]
  },
  {
   "cell_type": "code",
   "execution_count": 124,
   "metadata": {},
   "outputs": [],
   "source": [
    "feature_names = list(X_Ctrain.columns.values)"
   ]
  },
  {
   "cell_type": "code",
   "execution_count": 125,
   "metadata": {},
   "outputs": [
    {
     "name": "stdout",
     "output_type": "stream",
     "text": [
      "[(1, 'COUNTY_ap'), (1, 'COUNTY_emp'), (1, 'COUNTY_est'), (1, 'COUNTY_qp1'), (1, 'COUNTY_sz_lrg'), (1, 'COUNTY_sz_med'), (1, 'COUNTY_sz_small'), (1, 'US_ap'), (1, 'US_emp'), (1, 'US_lfo_-'), (1, 'US_lfo_O'), (1, 'US_lfo_S'), (1, 'US_sz_med'), (1, 'US_sz_small'), (1, 'state_ap'), (1, 'state_lfo_-'), (1, 'state_lfo_S'), (1, 'state_sz_small'), (2, 'state_lfo_Z'), (3, 'state_lfo_G'), (4, 'US_lfo_Z'), (5, 'US_est'), (6, 'US_lfo_C'), (7, 'US_qp1'), (8, 'state_lfo_P'), (9, 'state_qp1'), (10, 'state_sz_lrg'), (11, 'US_lfo_N'), (12, 'state_est'), (13, 'state_lfo_C'), (14, 'US_lfo_G'), (15, 'state_lfo_O'), (16, 'US_lfo_P'), (17, 'state_lfo_N'), (18, 'COUNTY_Avg_AP_I'), (19, 'state_emp'), (20, 'US_sz_lrg'), (21, 'state_sz_med'), (22, 'COUNTY_fipscty'), (23, 'new_col')]\n"
     ]
    }
   ],
   "source": [
    "print(sorted(zip(map(lambda x: round(x, 4), rfe.ranking_), feature_names)))"
   ]
  },
  {
   "cell_type": "code",
   "execution_count": 126,
   "metadata": {},
   "outputs": [],
   "source": [
    "FINAL_Texas_DATA = FINAL_Texas_DATA.drop(columns = ['US_lfo_N', 'US_lfo_S', 'COUNTY_sz_lrg', 'US_est', 'state_lfo_P', 'US_lfo_P','US_lfo_C','state_lfo_C', 'state_lfo_O', 'state_lfo_S', 'state_lfo_N', 'COUNTY_Avg_AP_I', 'state_lfo_G', 'US_emp','US_ap', 'state_emp', 'US_qp1', 'COUNTY_fipscty'])"
   ]
  },
  {
   "cell_type": "code",
   "execution_count": 128,
   "metadata": {},
   "outputs": [
    {
     "data": {
      "text/plain": [
       "Index(['state_lfo_-', 'state_lfo_Z', 'US_lfo_-', 'US_lfo_G', 'US_lfo_O',\n",
       "       'US_lfo_Z', 'new_col', 'COUNTY_emp', 'COUNTY_qp1', 'COUNTY_ap',\n",
       "       'COUNTY_est', 'COUNTY_sz_small', 'COUNTY_sz_med', 'state_qp1',\n",
       "       'state_ap', 'state_est', 'state_sz_small', 'state_sz_med',\n",
       "       'state_sz_lrg', 'US_sz_small', 'US_sz_med', 'US_sz_lrg'],\n",
       "      dtype='object')"
      ]
     },
     "execution_count": 128,
     "metadata": {},
     "output_type": "execute_result"
    }
   ],
   "source": [
    "FINAL_Texas_DATA.columns"
   ]
  },
  {
   "cell_type": "markdown",
   "metadata": {},
   "source": [
    "## Should drop couple of columns based on the rankings"
   ]
  },
  {
   "cell_type": "code",
   "execution_count": null,
   "metadata": {},
   "outputs": [],
   "source": [
    "X_Ctrain, X_Cval, y_Ctrain, y_Cval = train_test_split(FINAL_Texas_DATA,Ctrain_Y,test_size = 0.4,random_state = 123)"
   ]
  },
  {
   "cell_type": "code",
   "execution_count": null,
   "metadata": {},
   "outputs": [],
   "source": [
    "logreg = LogisticRegression()\n",
    "logreg.fit(X_Ctrain, y_Ctrain) #fitting the model "
   ]
  },
  {
   "cell_type": "code",
   "execution_count": null,
   "metadata": {},
   "outputs": [],
   "source": [
    "y_pred_val = logreg.predict(X_Cval)"
   ]
  },
  {
   "cell_type": "code",
   "execution_count": null,
   "metadata": {},
   "outputs": [],
   "source": [
    "#y_Cval"
   ]
  },
  {
   "cell_type": "code",
   "execution_count": null,
   "metadata": {},
   "outputs": [],
   "source": [
    "y_pred_val = pd.DataFrame(y_pred_val)"
   ]
  },
  {
   "cell_type": "code",
   "execution_count": null,
   "metadata": {},
   "outputs": [],
   "source": [
    "y_pred_val"
   ]
  },
  {
   "cell_type": "code",
   "execution_count": null,
   "metadata": {},
   "outputs": [],
   "source": [
    "print(metrics.classification_report(y_Cval,y_pred_val))"
   ]
  },
  {
   "cell_type": "code",
   "execution_count": null,
   "metadata": {},
   "outputs": [],
   "source": [
    "# Create regularization penalty space\n",
    "penalty = ['l1', 'l2']\n",
    "\n",
    "# Create regularization hyperparameter space\n",
    "C = np.logspace(0, 4, 10)\n",
    "\n",
    "# Create hyperparameter options\n",
    "hyperparameters = dict(C=C, penalty=penalty)"
   ]
  },
  {
   "cell_type": "code",
   "execution_count": null,
   "metadata": {},
   "outputs": [],
   "source": [
    "from sklearn.model_selection import GridSearchCV"
   ]
  },
  {
   "cell_type": "code",
   "execution_count": null,
   "metadata": {},
   "outputs": [],
   "source": [
    "clf_glm = GridSearchCV(logreg, hyperparameters, cv=5, verbose=0) #fitting the Gridsearch model\n",
    "best_model = clf_glm.fit(X_Ctrain, y_Ctrain)"
   ]
  },
  {
   "cell_type": "code",
   "execution_count": null,
   "metadata": {},
   "outputs": [],
   "source": [
    "# View best hyperparameters \n",
    "print('Best Penalty:', best_model.best_estimator_.get_params()['penalty'])\n",
    "print('Best C:', best_model.best_estimator_.get_params()['C'])"
   ]
  },
  {
   "cell_type": "code",
   "execution_count": null,
   "metadata": {},
   "outputs": [],
   "source": []
  },
  {
   "cell_type": "code",
   "execution_count": null,
   "metadata": {},
   "outputs": [],
   "source": [
    "import pandas as pd\n",
    "import numpy as np\n",
    "from sklearn.ensemble import RandomForestClassifier\n",
    "from sklearn.model_selection import KFold\n",
    "from sklearn.model_selection import cross_val_score\n",
    "from sklearn.model_selection import train_test_split\n",
    "from sklearn.metrics import accuracy_score\n",
    "    #randomForestClassifier\n",
    "rfc = RandomForestClassifier( oob_score=True, random_state=123456, class_weight= 'balanced')\n",
    "rfc.fit(X_Ctrain, y_Ctrain)\n",
    "\n"
   ]
  },
  {
   "cell_type": "code",
   "execution_count": null,
   "metadata": {},
   "outputs": [],
   "source": [
    "#Accuracy score\n",
    "predicted = rfc.predict(X_Ctrain) #predicting\n",
    "pred_RFC= pd.DataFrame(predicted) #prediction dataframe\n",
    "print(metrics.classification_report(y_Ctrain, predicted)) "
   ]
  },
  {
   "cell_type": "code",
   "execution_count": null,
   "metadata": {},
   "outputs": [],
   "source": [
    "#Accuracy score\n",
    "predicted = rfc.predict(X_Cval) #predicting\n",
    "pred_RFC= pd.DataFrame(predicted) #prediction dataframe\n",
    "print(metrics.classification_report(y_Cval, predicted)) "
   ]
  },
  {
   "cell_type": "code",
   "execution_count": null,
   "metadata": {},
   "outputs": [],
   "source": [
    "scores = cross_val_score(rfc,X_Ctrain, y_Ctrain,cv=10)  #cross validation\n",
    "np.array(scores).mean() "
   ]
  },
  {
   "cell_type": "code",
   "execution_count": null,
   "metadata": {},
   "outputs": [],
   "source": [
    "from sklearn.tree import DecisionTreeClassifier\n",
    "from sklearn import tree\n",
    "clf = tree.DecisionTreeClassifier()\n",
    "clf = clf.fit(X_Ctrain, y_Ctrain) #fitting the model on data and target"
   ]
  },
  {
   "cell_type": "code",
   "execution_count": null,
   "metadata": {},
   "outputs": [],
   "source": []
  },
  {
   "cell_type": "code",
   "execution_count": null,
   "metadata": {},
   "outputs": [],
   "source": [
    "# performing Gridsearch on Decisiontree classifier\n",
    "from sklearn.model_selection import GridSearchCV\n",
    "\n",
    "tree_para = {'criterion':['gini','entropy'],'max_depth':[1,2,3,4,5,6,7,8,9,10,11,12,15,20,30,40,50,70,90,120,150],\n",
    "             'min_samples_split': [2,5,10,15,20,25,30,35,40,50,60],'min_samples_leaf': [1, 5, 10, 15, 20],\n",
    "              'max_leaf_nodes': [None, 5, 10, 20]}\n",
    "GridDt = GridSearchCV(DecisionTreeClassifier(), tree_para, cv=5)"
   ]
  },
  {
   "cell_type": "code",
   "execution_count": null,
   "metadata": {},
   "outputs": [],
   "source": [
    "GridDt.fit(X_Ctrain, y_Ctrain) #fitting Grid model on data and target"
   ]
  },
  {
   "cell_type": "code",
   "execution_count": null,
   "metadata": {},
   "outputs": [],
   "source": [
    "print(GridDt.best_params_)"
   ]
  },
  {
   "cell_type": "code",
   "execution_count": null,
   "metadata": {},
   "outputs": [],
   "source": [
    "clf_giniFI = DecisionTreeClassifier(criterion = \"entropy\",max_depth=20,min_samples_leaf = 1,min_samples_split = 2)"
   ]
  },
  {
   "cell_type": "code",
   "execution_count": null,
   "metadata": {},
   "outputs": [],
   "source": [
    "clf_g= clf_giniFI.fit(X_Ctrain, y_Ctrain)"
   ]
  },
  {
   "cell_type": "code",
   "execution_count": null,
   "metadata": {},
   "outputs": [],
   "source": [
    "y_pred_val_giniFI = clf_g.predict(X_Cval)\n",
    "print(metrics.classification_report(y_Cval, y_pred_val_giniFI))\n"
   ]
  },
  {
   "cell_type": "code",
   "execution_count": null,
   "metadata": {},
   "outputs": [],
   "source": []
  },
  {
   "cell_type": "code",
   "execution_count": null,
   "metadata": {},
   "outputs": [],
   "source": []
  },
  {
   "cell_type": "code",
   "execution_count": null,
   "metadata": {},
   "outputs": [],
   "source": [
    "import os\n",
    "from sklearn.preprocessing import StandardScaler\n",
    "from sklearn.model_selection import train_test_split\n",
    "from sklearn.model_selection import GridSearchCV\n",
    "from keras.wrappers.scikit_learn import KerasClassifier\n",
    "from keras.models import Sequential\n",
    "from keras.layers import Dense, Activation, Dropout\n",
    "\n",
    "from numpy.random import seed\n",
    "import tensorflow as tf  "
   ]
  },
  {
   "cell_type": "code",
   "execution_count": null,
   "metadata": {},
   "outputs": [],
   "source": [
    "# define the keras model\n",
    "model = Sequential()\n",
    "model.add(Dense(12, input_dim=22, activation='relu'))\n",
    "model.add(Dense(8, activation='relu'))\n",
    "model.add(Dense(1, activation='sigmoid'))\n",
    "# compile the keras model\n",
    "model.compile(loss='binary_crossentropy', optimizer='adam', metrics=['accuracy'])\n",
    "# fit the keras model on the dataset\n",
    "model.fit(X_Ctrain, y_Ctrain, epochs=50, batch_size=64)\n",
    "# evaluate the keras model\n",
    "_, accuracy = model.evaluate(X_Ctrain, y_Ctrain)\n",
    "print('Accuracy: %.2f' % (accuracy*100))"
   ]
  },
  {
   "cell_type": "code",
   "execution_count": null,
   "metadata": {},
   "outputs": [],
   "source": []
  },
  {
   "cell_type": "code",
   "execution_count": null,
   "metadata": {},
   "outputs": [],
   "source": []
  },
  {
   "cell_type": "code",
   "execution_count": null,
   "metadata": {},
   "outputs": [],
   "source": [
    "# Use scikit-learn to grid search the batch size and epochs\n",
    "import numpy\n",
    "from sklearn.model_selection import GridSearchCV\n",
    "from keras.models import Sequential\n",
    "from keras.layers import Dense\n",
    "from keras.wrappers.scikit_learn import KerasClassifier\n",
    "# Function to create model, required for KerasClassifier"
   ]
  },
  {
   "cell_type": "code",
   "execution_count": null,
   "metadata": {},
   "outputs": [],
   "source": [
    "# Function to create model, required for KerasClassifier\n",
    "def create_model():\n",
    "\t# create model\n",
    "    model = Sequential()\n",
    "#    model.add(Dense(20, input_dim=22, activation='relu'))\n",
    "    model.add(Dense(12,input_dim=22, activation='relu'))\n",
    "    model.add(Dense(8, activation='relu'))\n",
    "#    model.add(Dense(4, activation='relu'))\n",
    "    model.add(Dense(4, activation='sigmoid'))\n",
    "    # Compile model\n",
    "    model.compile(loss='categorical_crossentropy', optimizer='adam', metrics=['accuracy'])\n",
    "    return model\n",
    "# fix random seed for reproducibility\n",
    "seed = 7\n",
    "numpy.random.seed(seed)\n",
    "# create model\n",
    "model = KerasClassifier(build_fn=create_model, verbose=0)\n",
    "# performing Gridsearch on Decisiontree classifier\n",
    "from sklearn.model_selection import GridSearchCV\n",
    "batch_size = [10, 20, 40, 60, 80, 100]\n",
    "epochs = [10, 50, 100]\n",
    "optimizer = ['SGD', 'RMSprop', 'Adagrad', 'Adadelta', 'Adam', 'Adamax', 'Nadam']\n",
    "# define the grid search parameters\n",
    "learn_rate = [0.001, 0.01, 0.1, 0.2, 0.3]\n",
    "momentum = [0.0, 0.2, 0.4, 0.6, 0.8, 0.9]\n",
    "init_mode = ['uniform', 'lecun_uniform', 'normal', 'zero', 'glorot_normal', 'glorot_uniform', 'he_normal', 'he_uniform']\n",
    "activation = ['softmax', 'softplus', 'softsign', 'relu', 'tanh', 'sigmoid', 'hard_sigmoid', 'linear']\n",
    "weight_constraint = [1, 2, 3, 4, 5]\n",
    "dropout_rate = [0.0, 0.1, 0.2, 0.3, 0.4, 0.5, 0.6, 0.7, 0.8, 0.9]\n",
    "neurons = [1, 5, 10, 15, 20, 25, 30]\n",
    "param_grid = dict(optimizer=optimizer)\n",
    "param_grid = dict(learn_rate=learn_rate, momentum=momentum)\n",
    "param_grid = dict(init_mode=init_mode)\n",
    "param_grid = dict(activation=activation)\n",
    "param_grid = dict(dropout_rate=dropout_rate, weight_constraint=weight_constraint)\n",
    "param_grid = dict(neurons=neurons)\n",
    "\n",
    "param_grid = dict(batch_size=batch_size, epochs=epochs)\n",
    "param_grid = dict(epochs=[10,20,30])\n",
    "grid = GridSearchCV(estimator=model, param_grid=param_grid, n_jobs=-1, cv=3)\n",
    "grid_result = grid.fit(X_Ctrain, y_Ctrain)\n",
    "print(\"Best: %f using %s\" % (grid_result.best_score_, grid_result.best_params_))\n",
    "means = grid_result.cv_results_['mean_test_score']\n",
    "stds = grid_result.cv_results_['std_test_score']\n",
    "params = grid_result.cv_results_['params']\n",
    "for mean, stdev, param in zip(means, stds, params):\n",
    "    print(\"%f (%f) with: %r\" % (mean, stdev, param))"
   ]
  },
  {
   "cell_type": "code",
   "execution_count": null,
   "metadata": {},
   "outputs": [],
   "source": [
    "\n"
   ]
  },
  {
   "cell_type": "code",
   "execution_count": null,
   "metadata": {},
   "outputs": [],
   "source": [
    "from sklearn.neighbors import KNeighborsClassifier\n",
    "KNN_clf = KNeighborsClassifier(n_neighbors=3) #using KNN\n",
    "KNN_clf.fit(X_Ctrain, y_Ctrain)\n",
    "\n",
    "knn_pred = KNN_clf.predict(X_Cval)\n",
    "pred_2= pd.DataFrame(knn_pred)\n",
    "print(metrics.classification_report(y_Cval, pred_2))"
   ]
  },
  {
   "cell_type": "code",
   "execution_count": null,
   "metadata": {},
   "outputs": [],
   "source": [
    "from sklearn import naive_bayes\n",
    "from sklearn import tree\n",
    "from sklearn import ensemble\n",
    "nbc = naive_bayes.GaussianNB()\n",
    "nbc.fit(X_Ctrain, y_Ctrain)\n",
    "print(metrics.classification_report(nbc.predict(X_Cval) , y_Cval))"
   ]
  },
  {
   "cell_type": "code",
   "execution_count": null,
   "metadata": {},
   "outputs": [],
   "source": []
  },
  {
   "cell_type": "code",
   "execution_count": null,
   "metadata": {},
   "outputs": [],
   "source": []
  },
  {
   "cell_type": "code",
   "execution_count": null,
   "metadata": {},
   "outputs": [],
   "source": [
    "from sklearn.svm import SVC\n",
    "svm_linear_clf = SVC(kernel='linear', \n",
    "            class_weight='balanced', # penalize\n",
    "            probability=True)\n",
    " \n",
    "svm_linear_clf.fit(X_Ctrain, y_Ctrain)"
   ]
  },
  {
   "cell_type": "code",
   "execution_count": null,
   "metadata": {},
   "outputs": [],
   "source": [
    "pred_linear = svm_linear_clf.predict(X_Cval)\n",
    "pred_linear_mod= pd.DataFrame(pred_linear)\n",
    "print(metrics.classification_report(y_Cval, pred_linear_mod))"
   ]
  },
  {
   "cell_type": "code",
   "execution_count": null,
   "metadata": {},
   "outputs": [],
   "source": []
  },
  {
   "cell_type": "code",
   "execution_count": null,
   "metadata": {},
   "outputs": [],
   "source": [
    "svm_clf = SVC(kernel='rbf', \n",
    "            class_weight='balanced', # penalize\n",
    "            probability=True)\n",
    " \n",
    "svm_clf.fit(X_Ctrain, y_Ctrain)"
   ]
  },
  {
   "cell_type": "code",
   "execution_count": null,
   "metadata": {},
   "outputs": [],
   "source": [
    "pred = svm_clf.predict(X_Cval)\n",
    "pred_1= pd.DataFrame(pred)\n",
    "print(metrics.classification_report(y_Cval, pred_1))"
   ]
  },
  {
   "cell_type": "code",
   "execution_count": null,
   "metadata": {},
   "outputs": [],
   "source": []
  },
  {
   "cell_type": "code",
   "execution_count": null,
   "metadata": {},
   "outputs": [],
   "source": [
    "svm_clf = SVC(kernel='poly', \n",
    "            class_weight='balanced', # penalize\n",
    "            probability=True)\n",
    " \n",
    "svm_clf.fit(X_Ctrain, y_Ctrain)"
   ]
  },
  {
   "cell_type": "code",
   "execution_count": null,
   "metadata": {},
   "outputs": [],
   "source": [
    "pred = svm_clf.predict(X_Cval)\n",
    "pred_1= pd.DataFrame(pred)\n",
    "print(metrics.classification_report(y_Cval, pred_1))"
   ]
  },
  {
   "cell_type": "code",
   "execution_count": null,
   "metadata": {},
   "outputs": [],
   "source": []
  }
 ],
 "metadata": {
  "kernelspec": {
   "display_name": "Python 3",
   "language": "python",
   "name": "python3"
  },
  "language_info": {
   "codemirror_mode": {
    "name": "ipython",
    "version": 3
   },
   "file_extension": ".py",
   "mimetype": "text/x-python",
   "name": "python",
   "nbconvert_exporter": "python",
   "pygments_lexer": "ipython3",
   "version": "3.7.4"
  }
 },
 "nbformat": 4,
 "nbformat_minor": 2
}
